{
  "nbformat": 4,
  "nbformat_minor": 0,
  "metadata": {
    "colab": {
      "provenance": [],
      "authorship_tag": "ABX9TyNUt0BrDWae9FBh7F07ZVqM",
      "include_colab_link": true
    },
    "kernelspec": {
      "name": "python3",
      "display_name": "Python 3"
    },
    "language_info": {
      "name": "python"
    }
  },
  "cells": [
    {
      "cell_type": "markdown",
      "metadata": {
        "id": "view-in-github",
        "colab_type": "text"
      },
      "source": [
        "<a href=\"https://colab.research.google.com/github/fboldt/aulasml/blob/master/aula9_ensembles.ipynb\" target=\"_parent\"><img src=\"https://colab.research.google.com/assets/colab-badge.svg\" alt=\"Open In Colab\"/></a>"
      ]
    },
    {
      "cell_type": "code",
      "execution_count": 1,
      "metadata": {
        "colab": {
          "base_uri": "https://localhost:8080/"
        },
        "id": "Zz07UreJgUoz",
        "outputId": "460a6bcd-130a-4329-d940-908c214c53aa"
      },
      "outputs": [
        {
          "output_type": "execute_result",
          "data": {
            "text/plain": [
              "((400, 4096), (400,))"
            ]
          },
          "metadata": {},
          "execution_count": 1
        }
      ],
      "source": [
        "from sklearn.datasets import fetch_olivetti_faces\n",
        "X, y = fetch_olivetti_faces(return_X_y=True)\n",
        "X.shape, y.shape"
      ]
    },
    {
      "cell_type": "code",
      "source": [
        "from sklearn.model_selection import train_test_split\n",
        "Xtr, Xte, ytr, yte = train_test_split(X, y, random_state=42)\n",
        "Xtr.shape, Xte.shape, ytr.shape, yte.shape"
      ],
      "metadata": {
        "colab": {
          "base_uri": "https://localhost:8080/"
        },
        "id": "TZUrE9QsimdF",
        "outputId": "430cd9e4-5c71-44ac-bc40-4727a49abd9c"
      },
      "execution_count": 2,
      "outputs": [
        {
          "output_type": "execute_result",
          "data": {
            "text/plain": [
              "((300, 4096), (100, 4096), (300,), (100,))"
            ]
          },
          "metadata": {},
          "execution_count": 2
        }
      ]
    },
    {
      "cell_type": "code",
      "source": [
        "from sklearn.neighbors import KNeighborsClassifier\n",
        "modelo = KNeighborsClassifier()\n",
        "modelo.fit(Xtr, ytr)\n",
        "knn_pred = modelo.predict(Xte)\n",
        "knn_hits = knn_pred == yte\n",
        "knn_hits, sum(knn_hits)/len(knn_hits)"
      ],
      "metadata": {
        "colab": {
          "base_uri": "https://localhost:8080/"
        },
        "id": "AbxkifqMj_mK",
        "outputId": "ac833a1b-baf0-4593-9df1-7c05e50ce80f"
      },
      "execution_count": 3,
      "outputs": [
        {
          "output_type": "execute_result",
          "data": {
            "text/plain": [
              "(array([ True,  True,  True,  True,  True,  True,  True,  True,  True,\n",
              "         True,  True,  True,  True,  True,  True,  True, False,  True,\n",
              "         True,  True,  True,  True, False, False,  True, False,  True,\n",
              "         True,  True,  True, False, False,  True,  True, False,  True,\n",
              "        False, False,  True,  True,  True,  True,  True,  True,  True,\n",
              "        False,  True,  True,  True,  True,  True,  True,  True,  True,\n",
              "         True,  True,  True,  True,  True, False,  True,  True,  True,\n",
              "        False,  True, False,  True,  True, False,  True,  True,  True,\n",
              "        False,  True,  True,  True,  True,  True,  True,  True, False,\n",
              "         True,  True,  True,  True,  True,  True,  True,  True,  True,\n",
              "         True,  True,  True,  True,  True,  True,  True,  True,  True,\n",
              "        False]), 0.83)"
            ]
          },
          "metadata": {},
          "execution_count": 3
        }
      ]
    },
    {
      "cell_type": "code",
      "source": [
        "from sklearn.naive_bayes import GaussianNB\n",
        "modelo = GaussianNB()\n",
        "modelo.fit(Xtr, ytr)\n",
        "gnb_pred = modelo.predict(Xte)\n",
        "gnb_hits = gnb_pred == yte\n",
        "gnb_hits, sum(gnb_hits)/len(gnb_hits)"
      ],
      "metadata": {
        "colab": {
          "base_uri": "https://localhost:8080/"
        },
        "id": "5gson38PlpW7",
        "outputId": "3a09e3e0-950d-408a-8648-ddad24a473bd"
      },
      "execution_count": 4,
      "outputs": [
        {
          "output_type": "execute_result",
          "data": {
            "text/plain": [
              "(array([ True,  True,  True,  True,  True,  True,  True,  True,  True,\n",
              "        False,  True,  True,  True, False,  True, False,  True,  True,\n",
              "         True,  True, False,  True,  True,  True,  True,  True,  True,\n",
              "         True,  True, False,  True,  True,  True,  True,  True,  True,\n",
              "        False,  True,  True,  True,  True,  True, False,  True,  True,\n",
              "         True,  True,  True,  True, False,  True,  True,  True, False,\n",
              "         True,  True,  True,  True,  True,  True,  True,  True, False,\n",
              "        False,  True,  True,  True, False,  True, False,  True,  True,\n",
              "        False,  True,  True,  True,  True,  True, False,  True, False,\n",
              "         True,  True,  True,  True,  True,  True,  True, False,  True,\n",
              "         True,  True,  True,  True, False,  True,  True,  True,  True,\n",
              "        False]), 0.81)"
            ]
          },
          "metadata": {},
          "execution_count": 4
        }
      ]
    },
    {
      "cell_type": "code",
      "source": [
        "from sklearn.linear_model import Perceptron\n",
        "modelo = Perceptron()\n",
        "modelo.fit(Xtr, ytr)\n",
        "per_pred = modelo.predict(Xte)\n",
        "per_hits = per_pred == yte\n",
        "per_hits, sum(per_hits)/len(per_hits)"
      ],
      "metadata": {
        "colab": {
          "base_uri": "https://localhost:8080/"
        },
        "id": "j48KlwUCmg2N",
        "outputId": "5b7255c7-c1c1-43a2-f526-d49a9e481753"
      },
      "execution_count": 5,
      "outputs": [
        {
          "output_type": "execute_result",
          "data": {
            "text/plain": [
              "(array([ True,  True,  True,  True,  True,  True,  True,  True,  True,\n",
              "        False,  True,  True, False,  True,  True, False, False,  True,\n",
              "         True,  True,  True,  True,  True, False,  True,  True,  True,\n",
              "         True,  True,  True,  True,  True,  True, False,  True,  True,\n",
              "         True,  True,  True,  True,  True, False,  True, False,  True,\n",
              "        False,  True,  True,  True,  True, False,  True,  True,  True,\n",
              "         True, False,  True,  True,  True,  True, False,  True,  True,\n",
              "        False,  True,  True,  True, False,  True,  True,  True,  True,\n",
              "        False, False,  True,  True,  True,  True, False,  True, False,\n",
              "         True, False,  True,  True,  True,  True,  True,  True,  True,\n",
              "         True,  True,  True, False,  True,  True, False,  True,  True,\n",
              "        False]), 0.78)"
            ]
          },
          "metadata": {},
          "execution_count": 5
        }
      ]
    },
    {
      "cell_type": "code",
      "source": [
        "import numpy as np\n",
        "hits = np.stack((knn_hits, gnb_hits, per_hits))\n",
        "hits.T"
      ],
      "metadata": {
        "colab": {
          "base_uri": "https://localhost:8080/"
        },
        "id": "g0_ZUUf2nHha",
        "outputId": "6f6af495-eeb5-48c8-ecf7-d70a9183cc73"
      },
      "execution_count": 6,
      "outputs": [
        {
          "output_type": "execute_result",
          "data": {
            "text/plain": [
              "array([[ True,  True,  True],\n",
              "       [ True,  True,  True],\n",
              "       [ True,  True,  True],\n",
              "       [ True,  True,  True],\n",
              "       [ True,  True,  True],\n",
              "       [ True,  True,  True],\n",
              "       [ True,  True,  True],\n",
              "       [ True,  True,  True],\n",
              "       [ True,  True,  True],\n",
              "       [ True, False, False],\n",
              "       [ True,  True,  True],\n",
              "       [ True,  True,  True],\n",
              "       [ True,  True, False],\n",
              "       [ True, False,  True],\n",
              "       [ True,  True,  True],\n",
              "       [ True, False, False],\n",
              "       [False,  True, False],\n",
              "       [ True,  True,  True],\n",
              "       [ True,  True,  True],\n",
              "       [ True,  True,  True],\n",
              "       [ True, False,  True],\n",
              "       [ True,  True,  True],\n",
              "       [False,  True,  True],\n",
              "       [False,  True, False],\n",
              "       [ True,  True,  True],\n",
              "       [False,  True,  True],\n",
              "       [ True,  True,  True],\n",
              "       [ True,  True,  True],\n",
              "       [ True,  True,  True],\n",
              "       [ True, False,  True],\n",
              "       [False,  True,  True],\n",
              "       [False,  True,  True],\n",
              "       [ True,  True,  True],\n",
              "       [ True,  True, False],\n",
              "       [False,  True,  True],\n",
              "       [ True,  True,  True],\n",
              "       [False, False,  True],\n",
              "       [False,  True,  True],\n",
              "       [ True,  True,  True],\n",
              "       [ True,  True,  True],\n",
              "       [ True,  True,  True],\n",
              "       [ True,  True, False],\n",
              "       [ True, False,  True],\n",
              "       [ True,  True, False],\n",
              "       [ True,  True,  True],\n",
              "       [False,  True, False],\n",
              "       [ True,  True,  True],\n",
              "       [ True,  True,  True],\n",
              "       [ True,  True,  True],\n",
              "       [ True, False,  True],\n",
              "       [ True,  True, False],\n",
              "       [ True,  True,  True],\n",
              "       [ True,  True,  True],\n",
              "       [ True, False,  True],\n",
              "       [ True,  True,  True],\n",
              "       [ True,  True, False],\n",
              "       [ True,  True,  True],\n",
              "       [ True,  True,  True],\n",
              "       [ True,  True,  True],\n",
              "       [False,  True,  True],\n",
              "       [ True,  True, False],\n",
              "       [ True,  True,  True],\n",
              "       [ True, False,  True],\n",
              "       [False, False, False],\n",
              "       [ True,  True,  True],\n",
              "       [False,  True,  True],\n",
              "       [ True,  True,  True],\n",
              "       [ True, False, False],\n",
              "       [False,  True,  True],\n",
              "       [ True, False,  True],\n",
              "       [ True,  True,  True],\n",
              "       [ True,  True,  True],\n",
              "       [False, False, False],\n",
              "       [ True,  True, False],\n",
              "       [ True,  True,  True],\n",
              "       [ True,  True,  True],\n",
              "       [ True,  True,  True],\n",
              "       [ True,  True,  True],\n",
              "       [ True, False, False],\n",
              "       [ True,  True,  True],\n",
              "       [False, False, False],\n",
              "       [ True,  True,  True],\n",
              "       [ True,  True, False],\n",
              "       [ True,  True,  True],\n",
              "       [ True,  True,  True],\n",
              "       [ True,  True,  True],\n",
              "       [ True,  True,  True],\n",
              "       [ True,  True,  True],\n",
              "       [ True, False,  True],\n",
              "       [ True,  True,  True],\n",
              "       [ True,  True,  True],\n",
              "       [ True,  True,  True],\n",
              "       [ True,  True,  True],\n",
              "       [ True,  True, False],\n",
              "       [ True, False,  True],\n",
              "       [ True,  True,  True],\n",
              "       [ True,  True, False],\n",
              "       [ True,  True,  True],\n",
              "       [ True,  True,  True],\n",
              "       [False, False, False]])"
            ]
          },
          "metadata": {},
          "execution_count": 6
        }
      ]
    },
    {
      "cell_type": "code",
      "source": [
        "ypred = np.stack((knn_pred, gnb_pred, per_pred))\n",
        "ypred.T"
      ],
      "metadata": {
        "colab": {
          "base_uri": "https://localhost:8080/"
        },
        "id": "dJxqmhPBpW9-",
        "outputId": "ad225a2b-4d60-445b-9922-7a750854c2ee"
      },
      "execution_count": 7,
      "outputs": [
        {
          "output_type": "execute_result",
          "data": {
            "text/plain": [
              "array([[20, 20, 20],\n",
              "       [28, 28, 28],\n",
              "       [ 3,  3,  3],\n",
              "       [21, 21, 21],\n",
              "       [ 9,  9,  9],\n",
              "       [ 8,  8,  8],\n",
              "       [32, 32, 32],\n",
              "       [ 9,  9,  9],\n",
              "       [26, 26, 26],\n",
              "       [12, 16, 28],\n",
              "       [ 0,  0,  0],\n",
              "       [36, 36, 36],\n",
              "       [ 5,  5,  8],\n",
              "       [ 7, 15,  7],\n",
              "       [13, 13, 13],\n",
              "       [ 4, 34, 29],\n",
              "       [25, 27, 25],\n",
              "       [37, 37, 37],\n",
              "       [23, 23, 23],\n",
              "       [38, 38, 38],\n",
              "       [ 7, 15,  7],\n",
              "       [ 1,  1,  1],\n",
              "       [ 4, 39, 39],\n",
              "       [25, 27, 25],\n",
              "       [ 0,  0,  0],\n",
              "       [ 3, 39, 39],\n",
              "       [11, 11, 11],\n",
              "       [22, 22, 22],\n",
              "       [26, 26, 26],\n",
              "       [10, 15, 10],\n",
              "       [29, 39, 39],\n",
              "       [29, 19, 19],\n",
              "       [26, 26, 26],\n",
              "       [ 5,  5, 29],\n",
              "       [20, 23, 23],\n",
              "       [11, 11, 11],\n",
              "       [12, 39, 11],\n",
              "       [20, 34, 34],\n",
              "       [15, 15, 15],\n",
              "       [14, 14, 14],\n",
              "       [38, 38, 38],\n",
              "       [ 5,  5, 29],\n",
              "       [ 7,  9,  7],\n",
              "       [ 2,  2, 36],\n",
              "       [ 8,  8,  8],\n",
              "       [28, 38, 28],\n",
              "       [14, 14, 14],\n",
              "       [18, 18, 18],\n",
              "       [ 2,  2,  2],\n",
              "       [17, 39, 17],\n",
              "       [ 4,  4, 39],\n",
              "       [32, 32, 32],\n",
              "       [33, 33, 33],\n",
              "       [ 7,  9,  7],\n",
              "       [37, 37, 37],\n",
              "       [ 3,  3,  1],\n",
              "       [22, 22, 22],\n",
              "       [17, 17, 17],\n",
              "       [ 3,  3,  3],\n",
              "       [ 0, 15, 15],\n",
              "       [12, 12, 36],\n",
              "       [29, 29, 29],\n",
              "       [25, 16, 25],\n",
              "       [17, 35, 28],\n",
              "       [10, 10, 10],\n",
              "       [14,  3,  3],\n",
              "       [35, 35, 35],\n",
              "       [26, 12,  1],\n",
              "       [37, 39, 39],\n",
              "       [ 7,  9,  7],\n",
              "       [32, 32, 32],\n",
              "       [14, 14, 14],\n",
              "       [ 3, 35, 20],\n",
              "       [ 4,  4,  8],\n",
              "       [38, 38, 38],\n",
              "       [24, 24, 24],\n",
              "       [22, 22, 22],\n",
              "       [36, 36, 36],\n",
              "       [17,  9, 28],\n",
              "       [28, 28, 28],\n",
              "       [16, 16, 20],\n",
              "       [ 1,  1,  1],\n",
              "       [20, 20,  8],\n",
              "       [25, 25, 25],\n",
              "       [27, 27, 27],\n",
              "       [ 6,  6,  6],\n",
              "       [24, 24, 24],\n",
              "       [30, 30, 30],\n",
              "       [10, 15, 10],\n",
              "       [ 9,  9,  9],\n",
              "       [23, 23, 23],\n",
              "       [33, 33, 33],\n",
              "       [11, 11, 11],\n",
              "       [22, 22,  8],\n",
              "       [18, 25, 18],\n",
              "       [31, 31, 31],\n",
              "       [37, 37, 39],\n",
              "       [38, 38, 38],\n",
              "       [23, 23, 23],\n",
              "       [17,  9, 18]])"
            ]
          },
          "metadata": {},
          "execution_count": 7
        }
      ]
    },
    {
      "cell_type": "code",
      "source": [
        "from scipy import stats\n",
        "vote_pred = stats.mode(ypred)[0][0]\n",
        "vote_hits = vote_pred == yte\n",
        "vote_hits, sum(vote_hits)/len(vote_hits)"
      ],
      "metadata": {
        "colab": {
          "base_uri": "https://localhost:8080/"
        },
        "id": "sd0wi4PEp6pC",
        "outputId": "09e7d010-208a-40d9-907b-85c60bb659c0"
      },
      "execution_count": 8,
      "outputs": [
        {
          "output_type": "execute_result",
          "data": {
            "text/plain": [
              "(array([ True,  True,  True,  True,  True,  True,  True,  True,  True,\n",
              "         True,  True,  True,  True,  True,  True,  True, False,  True,\n",
              "         True,  True,  True,  True,  True, False,  True,  True,  True,\n",
              "         True,  True,  True,  True,  True,  True,  True,  True,  True,\n",
              "         True,  True,  True,  True,  True,  True,  True,  True,  True,\n",
              "        False,  True,  True,  True,  True,  True,  True,  True,  True,\n",
              "         True,  True,  True,  True,  True,  True,  True,  True,  True,\n",
              "        False,  True,  True,  True, False,  True,  True,  True,  True,\n",
              "        False,  True,  True,  True,  True,  True, False,  True, False,\n",
              "         True,  True,  True,  True,  True,  True,  True,  True,  True,\n",
              "         True,  True,  True,  True,  True,  True,  True,  True,  True,\n",
              "        False]), 0.91)"
            ]
          },
          "metadata": {},
          "execution_count": 8
        }
      ]
    },
    {
      "cell_type": "markdown",
      "source": [
        "# Combinação de Classificadores"
      ],
      "metadata": {
        "id": "fVa0ugi1quKH"
      }
    },
    {
      "cell_type": "code",
      "source": [
        "from sklearn.ensemble import VotingClassifier\n",
        "modelo = VotingClassifier([\n",
        "    ('knn', KNeighborsClassifier()),\n",
        "    ('gnb', GaussianNB()),\n",
        "    ('per', Perceptron())\n",
        "])\n",
        "modelo.fit(Xtr, ytr)\n",
        "vote_pred = modelo.predict(Xte)\n",
        "vote_hits = vote_pred == yte\n",
        "vote_hits, sum(vote_hits)/len(vote_hits)"
      ],
      "metadata": {
        "colab": {
          "base_uri": "https://localhost:8080/"
        },
        "id": "uYtZ-zAIqpia",
        "outputId": "0ae6d4cd-6aaa-43dc-d823-85656dd835e4"
      },
      "execution_count": 9,
      "outputs": [
        {
          "output_type": "execute_result",
          "data": {
            "text/plain": [
              "(array([ True,  True,  True,  True,  True,  True,  True,  True,  True,\n",
              "         True,  True,  True,  True,  True,  True,  True, False,  True,\n",
              "         True,  True,  True,  True,  True, False,  True,  True,  True,\n",
              "         True,  True,  True,  True,  True,  True,  True,  True,  True,\n",
              "         True,  True,  True,  True,  True,  True,  True,  True,  True,\n",
              "        False,  True,  True,  True,  True,  True,  True,  True,  True,\n",
              "         True,  True,  True,  True,  True,  True,  True,  True,  True,\n",
              "        False,  True,  True,  True, False,  True,  True,  True,  True,\n",
              "        False,  True,  True,  True,  True,  True, False,  True, False,\n",
              "         True,  True,  True,  True,  True,  True,  True,  True,  True,\n",
              "         True,  True,  True,  True,  True,  True,  True,  True,  True,\n",
              "        False]), 0.91)"
            ]
          },
          "metadata": {},
          "execution_count": 9
        }
      ]
    },
    {
      "cell_type": "code",
      "source": [
        "from sklearn.ensemble import VotingClassifier\n",
        "modelo = VotingClassifier([\n",
        "    ('knn1', KNeighborsClassifier(1)),\n",
        "    ('knn5', KNeighborsClassifier(5)),\n",
        "    ('knn9', KNeighborsClassifier(9))\n",
        "])\n",
        "modelo.fit(Xtr, ytr)\n",
        "vote_pred = modelo.predict(Xte)\n",
        "vote_hits = vote_pred == yte\n",
        "vote_hits, sum(vote_hits)/len(vote_hits)"
      ],
      "metadata": {
        "colab": {
          "base_uri": "https://localhost:8080/"
        },
        "id": "p7iMLk1csNss",
        "outputId": "77979cf3-2b7c-4c65-c03f-5f870e43b636"
      },
      "execution_count": 10,
      "outputs": [
        {
          "output_type": "execute_result",
          "data": {
            "text/plain": [
              "(array([ True,  True,  True,  True,  True,  True,  True,  True,  True,\n",
              "         True,  True,  True,  True,  True,  True,  True, False,  True,\n",
              "         True,  True,  True,  True, False,  True,  True, False,  True,\n",
              "         True,  True,  True, False, False,  True,  True,  True,  True,\n",
              "        False, False, False,  True,  True,  True,  True,  True,  True,\n",
              "        False,  True,  True,  True,  True,  True,  True,  True,  True,\n",
              "         True,  True,  True,  True,  True,  True,  True,  True,  True,\n",
              "        False,  True, False,  True,  True, False,  True,  True,  True,\n",
              "        False,  True,  True,  True,  True,  True,  True,  True, False,\n",
              "         True,  True,  True,  True,  True,  True,  True,  True,  True,\n",
              "         True,  True,  True, False,  True,  True,  True,  True,  True,\n",
              "        False]), 0.84)"
            ]
          },
          "metadata": {},
          "execution_count": 10
        }
      ]
    },
    {
      "cell_type": "code",
      "source": [
        "from sklearn.tree import DecisionTreeClassifier\n",
        "modelo = DecisionTreeClassifier()\n",
        "modelo.fit(Xtr, ytr)\n",
        "dtc_pred = modelo.predict(Xte)\n",
        "dtc_hits = dtc_pred == yte\n",
        "dtc_hits, sum(dtc_hits)/len(dtc_hits)"
      ],
      "metadata": {
        "colab": {
          "base_uri": "https://localhost:8080/"
        },
        "id": "RWstenWVt8vq",
        "outputId": "1400dabd-8017-4081-f456-a991577bb911"
      },
      "execution_count": 11,
      "outputs": [
        {
          "output_type": "execute_result",
          "data": {
            "text/plain": [
              "(array([False,  True, False,  True,  True, False,  True,  True,  True,\n",
              "        False, False,  True,  True, False, False,  True, False, False,\n",
              "         True, False,  True, False, False, False,  True, False, False,\n",
              "        False,  True, False, False,  True,  True, False, False, False,\n",
              "        False, False,  True, False, False,  True, False,  True,  True,\n",
              "        False, False,  True,  True, False, False,  True,  True, False,\n",
              "         True,  True, False, False,  True, False, False,  True, False,\n",
              "        False, False,  True,  True, False, False, False,  True, False,\n",
              "        False, False,  True,  True,  True, False, False,  True, False,\n",
              "        False, False, False, False,  True,  True,  True,  True,  True,\n",
              "         True,  True,  True,  True,  True,  True, False,  True, False,\n",
              "        False]), 0.46)"
            ]
          },
          "metadata": {},
          "execution_count": 11
        }
      ]
    },
    {
      "cell_type": "code",
      "source": [
        "from sklearn.ensemble import VotingClassifier\n",
        "modelo = VotingClassifier([\n",
        "    ('knn', KNeighborsClassifier()),\n",
        "    ('gnb', GaussianNB()),\n",
        "    ('dtc', DecisionTreeClassifier())\n",
        "])\n",
        "modelo.fit(Xtr, ytr)\n",
        "vote_pred = modelo.predict(Xte)\n",
        "vote_hits = vote_pred == yte\n",
        "vote_hits, sum(vote_hits)/len(vote_hits)"
      ],
      "metadata": {
        "colab": {
          "base_uri": "https://localhost:8080/"
        },
        "id": "IJXmoMR9uPXd",
        "outputId": "65e2862a-a7db-4731-eb4c-ed9fa4314185"
      },
      "execution_count": 12,
      "outputs": [
        {
          "output_type": "execute_result",
          "data": {
            "text/plain": [
              "(array([ True,  True,  True,  True,  True,  True,  True,  True,  True,\n",
              "        False,  True,  True,  True,  True,  True,  True, False,  True,\n",
              "         True,  True,  True,  True, False, False,  True, False,  True,\n",
              "         True,  True,  True, False,  True,  True,  True, False,  True,\n",
              "        False, False,  True,  True,  True,  True,  True,  True,  True,\n",
              "        False,  True,  True,  True,  True,  True,  True,  True, False,\n",
              "         True,  True,  True,  True,  True, False,  True,  True, False,\n",
              "        False,  True,  True,  True, False, False,  True,  True,  True,\n",
              "        False,  True,  True,  True,  True,  True, False,  True, False,\n",
              "         True,  True,  True,  True,  True,  True,  True,  True,  True,\n",
              "         True,  True,  True,  True,  True,  True,  True,  True,  True,\n",
              "        False]), 0.8)"
            ]
          },
          "metadata": {},
          "execution_count": 12
        }
      ]
    },
    {
      "cell_type": "markdown",
      "source": [
        "# Diversificação da Amostragem"
      ],
      "metadata": {
        "id": "Uhh7wAe2vFjF"
      }
    },
    {
      "cell_type": "code",
      "source": [
        "from sklearn.ensemble import BaggingClassifier\n",
        "modelo = BaggingClassifier(DecisionTreeClassifier(splitter='random'), \n",
        "                           n_estimators=100, \n",
        "                           max_features=0.15,\n",
        "                           random_state=42)\n",
        "modelo.fit(Xtr, ytr)\n",
        "bag_pred = modelo.predict(Xte)\n",
        "bag_hits = bag_pred == yte\n",
        "bag_hits, sum(bag_hits)/len(bag_hits)"
      ],
      "metadata": {
        "colab": {
          "base_uri": "https://localhost:8080/"
        },
        "id": "u8J1legxuoYq",
        "outputId": "63c37a5a-a52a-4a04-8e6b-ed77f4d58a9b"
      },
      "execution_count": 13,
      "outputs": [
        {
          "output_type": "execute_result",
          "data": {
            "text/plain": [
              "(array([ True,  True,  True,  True,  True,  True,  True,  True,  True,\n",
              "         True,  True,  True,  True,  True,  True,  True, False,  True,\n",
              "         True,  True,  True,  True,  True,  True,  True,  True,  True,\n",
              "         True,  True,  True,  True,  True,  True,  True,  True,  True,\n",
              "         True,  True,  True,  True, False,  True,  True,  True,  True,\n",
              "         True,  True,  True,  True,  True,  True,  True,  True,  True,\n",
              "         True,  True, False,  True,  True,  True,  True,  True, False,\n",
              "        False,  True,  True,  True,  True,  True,  True,  True,  True,\n",
              "         True,  True,  True,  True,  True,  True,  True,  True, False,\n",
              "         True,  True,  True,  True,  True,  True,  True,  True,  True,\n",
              "         True,  True,  True,  True,  True,  True,  True,  True,  True,\n",
              "         True]), 0.94)"
            ]
          },
          "metadata": {},
          "execution_count": 13
        }
      ]
    },
    {
      "cell_type": "code",
      "source": [
        "from sklearn.ensemble import RandomForestClassifier\n",
        "modelo = RandomForestClassifier(random_state=42)\n",
        "modelo.fit(Xtr, ytr)\n",
        "rfc_pred = modelo.predict(Xte)\n",
        "rfc_hits = rfc_pred == yte\n",
        "rfc_hits, sum(rfc_hits)/len(rfc_hits)"
      ],
      "metadata": {
        "colab": {
          "base_uri": "https://localhost:8080/"
        },
        "id": "gC6VpHUxyEpt",
        "outputId": "64d2cfe8-000c-4122-b5d2-9239eb7b722a"
      },
      "execution_count": 14,
      "outputs": [
        {
          "output_type": "execute_result",
          "data": {
            "text/plain": [
              "(array([ True,  True,  True,  True,  True,  True,  True,  True,  True,\n",
              "         True,  True,  True,  True,  True,  True,  True, False,  True,\n",
              "         True,  True,  True,  True,  True,  True,  True,  True,  True,\n",
              "         True,  True,  True,  True,  True,  True,  True,  True,  True,\n",
              "        False,  True,  True,  True, False,  True, False,  True,  True,\n",
              "         True,  True,  True,  True,  True, False,  True,  True, False,\n",
              "         True,  True,  True,  True,  True,  True,  True,  True, False,\n",
              "        False,  True,  True,  True,  True, False, False,  True,  True,\n",
              "        False,  True,  True,  True,  True,  True,  True,  True, False,\n",
              "         True,  True,  True,  True,  True,  True,  True,  True,  True,\n",
              "         True,  True,  True,  True,  True,  True,  True,  True,  True,\n",
              "         True]), 0.88)"
            ]
          },
          "metadata": {},
          "execution_count": 14
        }
      ]
    },
    {
      "cell_type": "code",
      "source": [
        "from sklearn.ensemble import ExtraTreesClassifier\n",
        "modelo = ExtraTreesClassifier(random_state=42)\n",
        "modelo.fit(Xtr, ytr)\n",
        "etc_pred = modelo.predict(Xte)\n",
        "etc_hits = etc_pred == yte\n",
        "etc_hits, sum(etc_hits)/len(etc_hits)"
      ],
      "metadata": {
        "colab": {
          "base_uri": "https://localhost:8080/"
        },
        "id": "wO1sUyzryjsK",
        "outputId": "6c9915e4-b095-449b-d24d-200b99c8c6da"
      },
      "execution_count": 15,
      "outputs": [
        {
          "output_type": "execute_result",
          "data": {
            "text/plain": [
              "(array([ True,  True,  True,  True,  True,  True,  True,  True,  True,\n",
              "         True,  True,  True,  True,  True,  True,  True,  True,  True,\n",
              "         True,  True,  True,  True,  True,  True,  True,  True,  True,\n",
              "         True,  True,  True,  True,  True,  True,  True,  True,  True,\n",
              "         True, False,  True,  True,  True,  True,  True,  True,  True,\n",
              "         True,  True,  True,  True,  True,  True,  True,  True,  True,\n",
              "         True, False,  True,  True,  True,  True,  True,  True, False,\n",
              "        False,  True,  True,  True,  True,  True,  True,  True,  True,\n",
              "         True,  True,  True,  True,  True,  True,  True,  True, False,\n",
              "         True,  True,  True,  True,  True,  True,  True,  True,  True,\n",
              "         True,  True,  True,  True,  True,  True,  True,  True,  True,\n",
              "         True]), 0.95)"
            ]
          },
          "metadata": {},
          "execution_count": 15
        }
      ]
    },
    {
      "cell_type": "code",
      "source": [
        "from sklearn.base import BaseEstimator, ClassifierMixin\n",
        "from collections import Counter\n",
        "import random\n",
        "\n",
        "random.seed(42)\n",
        "\n",
        "def maisFrequente(y):\n",
        "  return Counter(y.flat).most_common(1)[0][0]\n",
        "\n",
        "def caracteristicaValor(X):\n",
        "  feat = random.randint(0, X.shape[1]-1)\n",
        "  xmin = np.min(X[:,feat])\n",
        "  xmax = np.max(X[:,feat])\n",
        "  valor = random.random()*(xmax-xmin)+xmin\n",
        "  return feat, valor\n",
        "\n",
        "class Arvore(BaseEstimator, ClassifierMixin):\n",
        "  def fit(self, X, y):\n",
        "    self.caracteristica, self.valor = caracteristicaValor(X)\n",
        "    maiores = X[:,self.caracteristica] > self.valor\n",
        "    if sum(maiores)>0 and sum(~maiores)>0:\n",
        "      self.maiores = Arvore()\n",
        "      self.maiores.fit(X[maiores,:], y[maiores])\n",
        "      self.menores = Arvore()\n",
        "      self.menores.fit(X[~maiores,:], y[~maiores])\n",
        "    else:\n",
        "      self.resposta = maisFrequente(y)\n",
        "\n",
        "  def predict(self, X):\n",
        "    y = np.empty((X.shape[0]), dtype=np.int64)\n",
        "    if hasattr(self, \"resposta\"):\n",
        "      y[:] = self.resposta\n",
        "    else:\n",
        "      maiores = X[:,self.caracteristica] > self.valor\n",
        "      y[maiores] = self.maiores.predict(X[maiores,:])\n",
        "      y[~maiores] = self.menores.predict(X[~maiores,:])\n",
        "    return y\n",
        "\n",
        "modelo = BaggingClassifier(Arvore(), \n",
        "                           n_estimators=200,\n",
        "                           max_features=0.1,\n",
        "                           random_state=42)\n",
        "modelo.fit(Xtr, ytr)\n",
        "bag_pred = modelo.predict(Xte)\n",
        "bag_hits = bag_pred == yte\n",
        "bag_hits, sum(bag_hits)/len(bag_hits)"
      ],
      "metadata": {
        "colab": {
          "base_uri": "https://localhost:8080/"
        },
        "id": "lw_clZqNztDp",
        "outputId": "4f7aec5e-7b38-48df-d9af-ce818b878d28"
      },
      "execution_count": 16,
      "outputs": [
        {
          "output_type": "execute_result",
          "data": {
            "text/plain": [
              "(array([ True,  True,  True,  True,  True,  True,  True,  True,  True,\n",
              "         True,  True,  True,  True,  True,  True,  True,  True,  True,\n",
              "         True,  True,  True,  True,  True,  True,  True,  True,  True,\n",
              "         True,  True,  True,  True,  True,  True,  True,  True,  True,\n",
              "        False, False,  True,  True,  True,  True,  True,  True,  True,\n",
              "         True,  True,  True,  True,  True,  True,  True,  True,  True,\n",
              "         True, False,  True,  True,  True,  True,  True,  True,  True,\n",
              "        False,  True, False,  True,  True, False,  True,  True,  True,\n",
              "         True,  True,  True,  True,  True,  True,  True,  True, False,\n",
              "         True,  True,  True,  True,  True,  True,  True,  True,  True,\n",
              "         True,  True,  True, False,  True,  True,  True,  True,  True,\n",
              "         True]), 0.92)"
            ]
          },
          "metadata": {},
          "execution_count": 16
        }
      ]
    },
    {
      "cell_type": "code",
      "source": [
        "from sklearn.ensemble import AdaBoostClassifier\n",
        "modelo = AdaBoostClassifier(DecisionTreeClassifier(max_depth=25, splitter='random'), \n",
        "                            learning_rate=0.15, random_state=42)\n",
        "modelo.fit(Xtr, ytr)\n",
        "abc_pred = modelo.predict(Xte)\n",
        "abc_hits = abc_pred == yte\n",
        "abc_hits, sum(abc_hits)/len(abc_hits)"
      ],
      "metadata": {
        "colab": {
          "base_uri": "https://localhost:8080/"
        },
        "id": "1t77WL1X6YMi",
        "outputId": "2569eefd-3b2d-4fe4-836d-b1398c0d4f2b"
      },
      "execution_count": 17,
      "outputs": [
        {
          "output_type": "execute_result",
          "data": {
            "text/plain": [
              "(array([ True,  True,  True,  True,  True,  True,  True,  True,  True,\n",
              "         True,  True,  True,  True,  True,  True,  True,  True,  True,\n",
              "         True,  True,  True,  True,  True,  True,  True,  True,  True,\n",
              "         True,  True,  True,  True,  True,  True,  True,  True,  True,\n",
              "        False,  True,  True,  True,  True,  True,  True,  True,  True,\n",
              "         True,  True,  True,  True,  True, False,  True,  True,  True,\n",
              "         True,  True, False,  True,  True,  True,  True,  True, False,\n",
              "        False,  True,  True,  True,  True,  True,  True,  True,  True,\n",
              "         True,  True,  True,  True,  True,  True,  True,  True, False,\n",
              "         True,  True,  True,  True,  True,  True,  True,  True, False,\n",
              "         True,  True,  True,  True,  True,  True,  True,  True,  True,\n",
              "         True]), 0.93)"
            ]
          },
          "metadata": {},
          "execution_count": 17
        }
      ]
    },
    {
      "cell_type": "code",
      "source": [
        "import warnings\n",
        "warnings.filterwarnings('ignore')\n",
        "\n",
        "from sklearn.ensemble import StackingClassifier\n",
        "voting = VotingClassifier([\n",
        "    ('knn', KNeighborsClassifier()),\n",
        "    ('gnb', GaussianNB()),\n",
        "    ('per', Perceptron())\n",
        "])\n",
        "\n",
        "modelo = StackingClassifier([\n",
        "    ('voting', voting),\n",
        "    ('extrat', ExtraTreesClassifier()),\n",
        "    ('ranfor', RandomForestClassifier())\n",
        "], cv=3, passthrough=True)\n",
        "\n",
        "modelo.fit(Xtr, ytr)\n",
        "stack_pred = modelo.predict(Xte)\n",
        "stack_hits = stack_pred == yte\n",
        "stack_hits, sum(stack_hits)/len(stack_hits)"
      ],
      "metadata": {
        "colab": {
          "base_uri": "https://localhost:8080/"
        },
        "id": "fzJsObT57oLc",
        "outputId": "4cebd5aa-da19-4cf6-e2fa-b0173cf77151"
      },
      "execution_count": 18,
      "outputs": [
        {
          "output_type": "execute_result",
          "data": {
            "text/plain": [
              "(array([ True,  True,  True,  True,  True,  True,  True,  True,  True,\n",
              "         True,  True,  True,  True,  True,  True,  True,  True,  True,\n",
              "         True,  True,  True,  True,  True,  True,  True,  True,  True,\n",
              "         True,  True,  True, False,  True,  True,  True,  True,  True,\n",
              "         True,  True,  True,  True,  True,  True,  True,  True,  True,\n",
              "         True,  True,  True,  True,  True,  True,  True,  True,  True,\n",
              "         True,  True,  True,  True,  True,  True,  True,  True,  True,\n",
              "        False,  True,  True,  True,  True, False,  True,  True,  True,\n",
              "        False,  True,  True,  True,  True,  True,  True,  True, False,\n",
              "         True,  True,  True,  True,  True,  True,  True,  True,  True,\n",
              "         True,  True,  True,  True,  True,  True,  True,  True,  True,\n",
              "         True]), 0.95)"
            ]
          },
          "metadata": {},
          "execution_count": 18
        }
      ]
    }
  ]
}