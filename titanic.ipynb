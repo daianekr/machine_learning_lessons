{
 "metadata": {
  "language_info": {
   "codemirror_mode": {
    "name": "ipython",
    "version": 3
   },
   "file_extension": ".py",
   "mimetype": "text/x-python",
   "name": "python",
   "nbconvert_exporter": "python",
   "pygments_lexer": "ipython3",
   "version": "3.8.5-final"
  },
  "orig_nbformat": 2,
  "kernelspec": {
   "name": "python38564bitvenv8df5f652c965478ab2804a4e99998afa",
   "display_name": "Python 3.8.5 64-bit ('.venv')",
   "language": "python"
  }
 },
 "nbformat": 4,
 "nbformat_minor": 2,
 "cells": [
  {
   "cell_type": "code",
   "execution_count": 1,
   "metadata": {},
   "outputs": [
    {
     "output_type": "execute_result",
     "data": {
      "text/plain": [
       "PassengerId      int64\n",
       "Survived         int64\n",
       "Pclass           int64\n",
       "Name            object\n",
       "Sex             object\n",
       "Age            float64\n",
       "SibSp            int64\n",
       "Parch            int64\n",
       "Ticket          object\n",
       "Fare           float64\n",
       "Cabin           object\n",
       "Embarked        object\n",
       "dtype: object"
      ]
     },
     "metadata": {},
     "execution_count": 1
    }
   ],
   "source": [
    "import pandas as pd\n",
    "data = pd.read_csv('train.csv')\n",
    "data.dtypes"
   ]
  },
  {
   "cell_type": "code",
   "execution_count": 2,
   "metadata": {},
   "outputs": [
    {
     "output_type": "execute_result",
     "data": {
      "text/plain": [
       "0      0\n",
       "1      1\n",
       "2      1\n",
       "3      1\n",
       "4      0\n",
       "      ..\n",
       "886    0\n",
       "887    1\n",
       "888    0\n",
       "889    1\n",
       "890    0\n",
       "Name: Survived, Length: 891, dtype: int64"
      ]
     },
     "metadata": {},
     "execution_count": 2
    }
   ],
   "source": [
    "y = data['Survived']\n",
    "y"
   ]
  },
  {
   "cell_type": "code",
   "execution_count": 3,
   "metadata": {},
   "outputs": [
    {
     "output_type": "execute_result",
     "data": {
      "text/plain": [
       "Index(['PassengerId', 'Pclass', 'Name', 'Sex', 'Age', 'SibSp', 'Parch',\n",
       "       'Ticket', 'Fare', 'Cabin', 'Embarked'],\n",
       "      dtype='object')"
      ]
     },
     "metadata": {},
     "execution_count": 3
    }
   ],
   "source": [
    "X = data.drop('Survived',axis=1)\n",
    "X.columns"
   ]
  },
  {
   "cell_type": "code",
   "execution_count": 4,
   "metadata": {},
   "outputs": [
    {
     "output_type": "stream",
     "name": "stdout",
     "text": [
      " PassengerId:  891 int64\n      Pclass:    3 int64\n        Name:  891 object\n         Sex:    2 object\n         Age:  265 float64\n       SibSp:    7 int64\n       Parch:    7 int64\n      Ticket:  681 object\n        Fare:  248 float64\n       Cabin:  148 object\n    Embarked:    4 object\n"
     ]
    }
   ],
   "source": [
    "for column in X.columns:\n",
    "    print(f\"{column:>12}: {len(set(X[column])):4} {X[column].dtype}\")"
   ]
  },
  {
   "cell_type": "code",
   "execution_count": 5,
   "metadata": {},
   "outputs": [
    {
     "output_type": "execute_result",
     "data": {
      "text/plain": [
       "Index(['Pclass', 'Sex', 'Age', 'SibSp', 'Parch', 'Fare', 'Embarked'], dtype='object')"
      ]
     },
     "metadata": {},
     "execution_count": 5
    }
   ],
   "source": [
    "indesejadas = ['PassengerId', 'Name', 'Ticket', 'Cabin']\n",
    "Xdrop = X.drop(indesejadas,axis=1)\n",
    "Xdrop.columns"
   ]
  },
  {
   "cell_type": "code",
   "execution_count": 6,
   "metadata": {},
   "outputs": [
    {
     "output_type": "execute_result",
     "data": {
      "text/plain": [
       "Index(['Pclass', 'Age', 'SibSp', 'Parch', 'Fare'], dtype='object')"
      ]
     },
     "metadata": {},
     "execution_count": 6
    }
   ],
   "source": [
    "Xnum = Xdrop.select_dtypes('number')\n",
    "Xnum.columns"
   ]
  },
  {
   "cell_type": "code",
   "execution_count": 7,
   "metadata": {},
   "outputs": [
    {
     "output_type": "stream",
     "name": "stdout",
     "text": [
      "      Pclass: 0\n         Age: 177\n       SibSp: 0\n       Parch: 0\n        Fare: 0\n"
     ]
    }
   ],
   "source": [
    "for column in Xnum.columns:\n",
    "    print(f\"{column:>12}: {sum(Xnum[column].isnull())}\")"
   ]
  },
  {
   "cell_type": "code",
   "execution_count": 8,
   "metadata": {},
   "outputs": [
    {
     "output_type": "execute_result",
     "data": {
      "text/plain": [
       "array([[ 3.    , 22.    ,  1.    ,  0.    ,  7.25  ],\n",
       "       [ 1.    , 38.    ,  1.    ,  0.    , 71.2833],\n",
       "       [ 3.    , 26.    ,  0.    ,  0.    ,  7.925 ],\n",
       "       ...,\n",
       "       [ 3.    , 28.    ,  1.    ,  2.    , 23.45  ],\n",
       "       [ 1.    , 26.    ,  0.    ,  0.    , 30.    ],\n",
       "       [ 3.    , 32.    ,  0.    ,  0.    ,  7.75  ]])"
      ]
     },
     "metadata": {},
     "execution_count": 8
    }
   ],
   "source": [
    "from sklearn.impute import SimpleImputer\n",
    "imputer = SimpleImputer(strategy='median')\n",
    "XnumLimpo = imputer.fit_transform(Xnum)\n",
    "XnumLimpo"
   ]
  },
  {
   "cell_type": "code",
   "execution_count": 9,
   "metadata": {},
   "outputs": [
    {
     "output_type": "execute_result",
     "data": {
      "text/plain": [
       "Index(['Sex', 'Embarked'], dtype='object')"
      ]
     },
     "metadata": {},
     "execution_count": 9
    }
   ],
   "source": [
    "Xcat = Xdrop.select_dtypes('object')\n",
    "Xcat.columns"
   ]
  },
  {
   "cell_type": "code",
   "execution_count": 10,
   "metadata": {},
   "outputs": [
    {
     "output_type": "stream",
     "name": "stdout",
     "text": [
      "         Sex: 0\n    Embarked: 2\n"
     ]
    }
   ],
   "source": [
    "for column in Xcat.columns:\n",
    "    print(f\"{column:>12}: {sum(Xcat[column].isnull())}\")"
   ]
  },
  {
   "cell_type": "code",
   "execution_count": 11,
   "metadata": {},
   "outputs": [
    {
     "output_type": "execute_result",
     "data": {
      "text/plain": [
       "array([['male', 'S'],\n",
       "       ['female', 'C'],\n",
       "       ['female', 'S'],\n",
       "       ...,\n",
       "       ['female', 'S'],\n",
       "       ['male', 'C'],\n",
       "       ['male', 'Q']], dtype=object)"
      ]
     },
     "metadata": {},
     "execution_count": 11
    }
   ],
   "source": [
    "from sklearn.impute import SimpleImputer\n",
    "imputer = SimpleImputer(strategy='most_frequent')\n",
    "XcatLimpo = imputer.fit_transform(Xcat)\n",
    "XcatLimpo"
   ]
  },
  {
   "cell_type": "code",
   "execution_count": 12,
   "metadata": {},
   "outputs": [
    {
     "output_type": "execute_result",
     "data": {
      "text/plain": [
       "<891x5 sparse matrix of type '<class 'numpy.float64'>'\n",
       "\twith 1782 stored elements in Compressed Sparse Row format>"
      ]
     },
     "metadata": {},
     "execution_count": 12
    }
   ],
   "source": [
    "from sklearn.preprocessing import OneHotEncoder\n",
    "encoder = OneHotEncoder()\n",
    "XcatHot = encoder.fit_transform(XcatLimpo)\n",
    "XcatHot"
   ]
  },
  {
   "cell_type": "code",
   "execution_count": 13,
   "metadata": {},
   "outputs": [
    {
     "output_type": "execute_result",
     "data": {
      "text/plain": [
       "(891, 10)"
      ]
     },
     "metadata": {},
     "execution_count": 13
    }
   ],
   "source": [
    "import numpy as np\n",
    "Xtratado = np.c_[XnumLimpo,XcatHot.toarray()]\n",
    "Xtratado.shape"
   ]
  },
  {
   "cell_type": "code",
   "execution_count": 14,
   "metadata": {},
   "outputs": [
    {
     "output_type": "execute_result",
     "data": {
      "text/plain": [
       "array([ True, False,  True,  True,  True,  True,  True,  True,  True,\n",
       "        True,  True,  True])"
      ]
     },
     "metadata": {},
     "execution_count": 14
    }
   ],
   "source": [
    "import pandas as pd\n",
    "train = pd.read_csv('train.csv')\n",
    "test = pd.read_csv('test.csv')\n",
    "train.columns.isin(test.columns)"
   ]
  },
  {
   "cell_type": "code",
   "execution_count": 15,
   "metadata": {},
   "outputs": [
    {
     "output_type": "execute_result",
     "data": {
      "text/plain": [
       "Index(['Survived'], dtype='object')"
      ]
     },
     "metadata": {},
     "execution_count": 15
    }
   ],
   "source": [
    "train.columns[~train.columns.isin(test.columns)]"
   ]
  },
  {
   "cell_type": "code",
   "execution_count": 16,
   "metadata": {},
   "outputs": [
    {
     "output_type": "execute_result",
     "data": {
      "text/plain": [
       "Index(['Pclass', 'Name', 'Sex', 'Age', 'SibSp', 'Parch', 'Fare', 'Embarked'], dtype='object')"
      ]
     },
     "metadata": {},
     "execution_count": 16
    }
   ],
   "source": [
    "from sklearn.base import BaseEstimator, TransformerMixin\n",
    "\n",
    "def extraiPronome(nome):\n",
    "    return nome.split(',')[1].split('.')[0].strip()\n",
    "\n",
    "class AtributosDesejados(BaseEstimator, TransformerMixin):\n",
    "    def __init__(self, excluirName=True):\n",
    "        self.excluirName = excluirName\n",
    "    def fit(self, X, y=None):\n",
    "        self.colunasIndesejadas = ['PassengerId', 'Ticket', 'Cabin']\n",
    "        if excluirName:\n",
    "            self.colunasIndesejadas.append('Name')\n",
    "        return self\n",
    "    def transform(self, X, y=None):\n",
    "        Xdrop = X.drop(self.colunasIndesejadas,axis=1)\n",
    "        Xdrop['Name'] = Xdrop['Name'].apply(extraiPronome)\n",
    "        return Xdrop\n",
    "\n",
    "atributosDesejados = AtributosDesejados()\n",
    "Xdrop = atributosDesejados.fit_transform(X)\n",
    "Xdrop.columns"
   ]
  },
  {
   "cell_type": "code",
   "execution_count": 17,
   "metadata": {},
   "outputs": [
    {
     "output_type": "execute_result",
     "data": {
      "text/plain": [
       "Index(['Pclass', 'Age', 'SibSp', 'Parch', 'Fare'], dtype='object')"
      ]
     },
     "metadata": {},
     "execution_count": 17
    }
   ],
   "source": [
    "from sklearn.base import BaseEstimator, TransformerMixin\n",
    "\n",
    "class AtributosNumericos(BaseEstimator, TransformerMixin):\n",
    "    def fit(self, X, y=None):\n",
    "        self.colunasNumericas = X.select_dtypes(include='number').columns\n",
    "        return self\n",
    "    def transform(self, X, y=None):\n",
    "        return X[self.colunasNumericas]\n",
    "\n",
    "atributosNumericos = AtributosNumericos()\n",
    "Xnum = atributosNumericos.fit_transform(Xdrop)\n",
    "Xnum.columns"
   ]
  },
  {
   "cell_type": "code",
   "execution_count": 18,
   "metadata": {},
   "outputs": [
    {
     "output_type": "execute_result",
     "data": {
      "text/plain": [
       "array([[ 0.82737724, -0.56573646,  0.43279337, -0.47367361, -0.50244517],\n",
       "       [-1.56610693,  0.66386103,  0.43279337, -0.47367361,  0.78684529],\n",
       "       [ 0.82737724, -0.25833709, -0.4745452 , -0.47367361, -0.48885426],\n",
       "       ...,\n",
       "       [ 0.82737724, -0.1046374 ,  0.43279337,  2.00893337, -0.17626324],\n",
       "       [-1.56610693, -0.25833709, -0.4745452 , -0.47367361, -0.04438104],\n",
       "       [ 0.82737724,  0.20276197, -0.4745452 , -0.47367361, -0.49237783]])"
      ]
     },
     "metadata": {},
     "execution_count": 18
    }
   ],
   "source": [
    "from sklearn.pipeline import Pipeline\n",
    "from sklearn.impute import SimpleImputer\n",
    "from sklearn.preprocessing import StandardScaler\n",
    "\n",
    "pipenum = Pipeline([\n",
    "    ('atributos_numericos', AtributosNumericos()),\n",
    "    ('imputer', SimpleImputer(strategy='median')),\n",
    "    ('scaler', StandardScaler())\n",
    "])\n",
    "\n",
    "XnumLimpo = pipenum.fit_transform(Xnum)\n",
    "XnumLimpo"
   ]
  },
  {
   "cell_type": "code",
   "execution_count": 19,
   "metadata": {},
   "outputs": [
    {
     "output_type": "execute_result",
     "data": {
      "text/plain": [
       "Index(['Name', 'Sex', 'Embarked'], dtype='object')"
      ]
     },
     "metadata": {},
     "execution_count": 19
    }
   ],
   "source": [
    "from sklearn.base import BaseEstimator, TransformerMixin\n",
    "\n",
    "class AtributosCategoricos(BaseEstimator, TransformerMixin):\n",
    "    def fit(self, X, y=None):\n",
    "        self.colunasCategoricas = X.select_dtypes(include='object').columns\n",
    "        return self\n",
    "    def transform(self, X, y=None):\n",
    "        return X[self.colunasCategoricas]\n",
    "\n",
    "atributosCategoricos = AtributosCategoricos()\n",
    "Xcat = atributosCategoricos.fit_transform(Xdrop)\n",
    "Xcat.columns"
   ]
  },
  {
   "cell_type": "code",
   "execution_count": 20,
   "metadata": {},
   "outputs": [
    {
     "output_type": "execute_result",
     "data": {
      "text/plain": [
       "<891x22 sparse matrix of type '<class 'numpy.float64'>'\n",
       "\twith 2673 stored elements in Compressed Sparse Row format>"
      ]
     },
     "metadata": {},
     "execution_count": 20
    }
   ],
   "source": [
    "from sklearn.pipeline import Pipeline\n",
    "from sklearn.impute import SimpleImputer\n",
    "from sklearn.preprocessing import OneHotEncoder\n",
    "\n",
    "pipecat = Pipeline([\n",
    "    ('atributos_categoricos', AtributosCategoricos()),\n",
    "    ('imputer', SimpleImputer(strategy='most_frequent')),\n",
    "    ('encoder', OneHotEncoder(handle_unknown='ignore'))\n",
    "])\n",
    "\n",
    "XcatLimpo = pipecat.fit_transform(Xdrop)\n",
    "XcatLimpo"
   ]
  },
  {
   "cell_type": "code",
   "execution_count": 21,
   "metadata": {},
   "outputs": [
    {
     "output_type": "execute_result",
     "data": {
      "text/plain": [
       "<891x27 sparse matrix of type '<class 'numpy.float64'>'\n",
       "\twith 7128 stored elements in Compressed Sparse Row format>"
      ]
     },
     "metadata": {},
     "execution_count": 21
    }
   ],
   "source": [
    "from sklearn.pipeline import FeatureUnion\n",
    "unecaracteristicas = FeatureUnion([\n",
    "    ('pipenum', pipenum),\n",
    "    ('pipecat', pipecat)\n",
    "])\n",
    "Xtratado = unecaracteristicas.fit_transform(Xdrop)\n",
    "Xtratado"
   ]
  },
  {
   "cell_type": "code",
   "execution_count": 22,
   "metadata": {},
   "outputs": [
    {
     "output_type": "execute_result",
     "data": {
      "text/plain": [
       "<891x27 sparse matrix of type '<class 'numpy.float64'>'\n",
       "\twith 7128 stored elements in Compressed Sparse Row format>"
      ]
     },
     "metadata": {},
     "execution_count": 22
    }
   ],
   "source": [
    "from sklearn.pipeline import Pipeline\n",
    "\n",
    "preproc = Pipeline([\n",
    "    ('atributos_desejados', AtributosDesejados()),\n",
    "    ('unecaracteristicas', unecaracteristicas)\n",
    "])\n",
    "Xtratado = preproc.fit_transform(X)\n",
    "Xtratado"
   ]
  },
  {
   "cell_type": "code",
   "execution_count": 23,
   "metadata": {},
   "outputs": [],
   "source": [
    "from sklearn.tree import DecisionTreeClassifier\n",
    "\n",
    "pipetotal = Pipeline([\n",
    "    ('preproc', preproc),\n",
    "    ('arvore', DecisionTreeClassifier())\n",
    "])"
   ]
  },
  {
   "cell_type": "code",
   "execution_count": 24,
   "metadata": {},
   "outputs": [
    {
     "output_type": "execute_result",
     "data": {
      "text/plain": [
       "0.9820426487093153"
      ]
     },
     "metadata": {},
     "execution_count": 24
    }
   ],
   "source": [
    "from sklearn.metrics import accuracy_score\n",
    "\n",
    "pipetotal.fit(X,y)\n",
    "ypred = pipetotal.predict(X)\n",
    "accuracy_score(y, ypred)"
   ]
  },
  {
   "cell_type": "code",
   "execution_count": 25,
   "metadata": {},
   "outputs": [
    {
     "output_type": "execute_result",
     "data": {
      "text/plain": [
       "({'fit_time': array([0.01434708, 0.01385164, 0.01383138, 0.01295471, 0.01313949]),\n",
       "  'score_time': array([0.00532889, 0.00448394, 0.00518775, 0.00439811, 0.00443983]),\n",
       "  'test_score': array([0.77094972, 0.78089888, 0.83707865, 0.7247191 , 0.79775281])},\n",
       " 0.7822798317745276)"
      ]
     },
     "metadata": {},
     "execution_count": 25
    }
   ],
   "source": [
    "from sklearn.model_selection import cross_validate\n",
    "import numpy as np\n",
    "\n",
    "scores = cross_validate(pipetotal, X, y)\n",
    "scores, np.mean(scores['test_score'])"
   ]
  },
  {
   "cell_type": "code",
   "execution_count": 26,
   "metadata": {},
   "outputs": [
    {
     "output_type": "execute_result",
     "data": {
      "text/plain": [
       "({'fit_time': array([1.88517666, 1.86622238, 1.88867188, 1.87356615, 1.9135282 ]),\n",
       "  'score_time': array([0.0041759 , 0.00456786, 0.00469756, 0.00441217, 0.00427842]),\n",
       "  'test_score': array([0.82681564, 0.79775281, 0.8258427 , 0.76404494, 0.83146067])},\n",
       " 0.8091833532107213)"
      ]
     },
     "metadata": {},
     "execution_count": 26
    }
   ],
   "source": [
    "from sklearn.model_selection import GridSearchCV\n",
    "\n",
    "parametros = {\n",
    "    'arvore__max_depth': [None] + list(range(1,20,2)),\n",
    "    'arvore__criterion': ['gini', 'entropy']\n",
    "}\n",
    "modelo = GridSearchCV(pipetotal, param_grid=parametros)\n",
    "\n",
    "scores = cross_validate(modelo, X, y)\n",
    "scores, np.mean(scores['test_score'])"
   ]
  },
  {
   "cell_type": "code",
   "execution_count": 34,
   "metadata": {},
   "outputs": [
    {
     "output_type": "execute_result",
     "data": {
      "text/plain": [
       "({'fit_time': array([0.00359678, 0.00321269, 0.00357842, 0.00294971, 0.00334692]),\n",
       "  'score_time': array([0., 0., 0., 0., 0.]),\n",
       "  'test_score': array([nan, nan, nan, nan, nan])},\n",
       " nan)"
      ]
     },
     "metadata": {},
     "execution_count": 34
    }
   ],
   "source": [
    "from sklearn.ensemble import RandomForestClassifier\n",
    "\n",
    "pipetotal = Pipeline([\n",
    "    ('atributosdesejados', AtributosDesejados()),\n",
    "    ('unecaracteristicas', unecaracteristicas),\n",
    "    ('floresta', RandomForestClassifier())\n",
    "])\n",
    "\n",
    "parametros = {\n",
    "    'atributosdesejados__excluirName': [True, False],\n",
    "    'floresta__criterion': ['gini', 'entropy']\n",
    "}\n",
    "modelo = GridSearchCV(pipetotal, param_grid=parametros)\n",
    "\n",
    "scores = cross_validate(modelo, X, y)\n",
    "scores, np.mean(scores['test_score'])"
   ]
  },
  {
   "cell_type": "code",
   "execution_count": 30,
   "metadata": {},
   "outputs": [],
   "source": [
    "modelo.fit(X,y)\n",
    "y_pred = modelo.predict(test)\n",
    "result = test[['PassengerId']]\n",
    "result['Survived'] = y_pred\n",
    "result.to_csv('videoaula.csv',index=False)"
   ]
  },
  {
   "cell_type": "code",
   "execution_count": null,
   "metadata": {},
   "outputs": [],
   "source": []
  }
 ]
}