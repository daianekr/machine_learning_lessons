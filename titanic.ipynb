{
 "metadata": {
  "language_info": {
   "codemirror_mode": {
    "name": "ipython",
    "version": 3
   },
   "file_extension": ".py",
   "mimetype": "text/x-python",
   "name": "python",
   "nbconvert_exporter": "python",
   "pygments_lexer": "ipython3",
   "version": "3.8.5-final"
  },
  "orig_nbformat": 2,
  "kernelspec": {
   "name": "python38564bitvenv8df5f652c965478ab2804a4e99998afa",
   "display_name": "Python 3.8.5 64-bit ('.venv')",
   "language": "python"
  }
 },
 "nbformat": 4,
 "nbformat_minor": 2,
 "cells": [
  {
   "cell_type": "code",
   "execution_count": 1,
   "metadata": {},
   "outputs": [],
   "source": [
    "import pandas as pd\n",
    "train = pd.read_csv('train.csv')\n",
    "test = pd.read_csv('test.csv')\n",
    "X = train[list(test.columns)]\n",
    "y = train[train.columns[~train.columns.isin(test.columns)]]\n"
   ]
  },
  {
   "cell_type": "code",
   "execution_count": 2,
   "metadata": {},
   "outputs": [],
   "source": [
    "from sklearn.base import BaseEstimator, TransformerMixin\n",
    "\n",
    "def extraiPronome(nome):\n",
    "    return nome.split(',')[1].split('.')[0].strip()\n",
    "\n",
    "class AtributosDesejados(BaseEstimator, TransformerMixin):\n",
    "    def __init__(self, excluirName=True):\n",
    "        self.excluirName = excluirName\n",
    "    def fit(self, X, y=None):\n",
    "        self.colunasIndesejadas = ['PassengerId', 'Ticket', 'Cabin']\n",
    "        if self.excluirName:\n",
    "            self.colunasIndesejadas.append('Name')\n",
    "        return self\n",
    "    def transform(self, X, y=None):\n",
    "        Xdrop = X.drop(self.colunasIndesejadas,axis=1)\n",
    "        if 'Name' not in self.colunasIndesejadas:\n",
    "            Xdrop['Name'] = Xdrop['Name'].apply(extraiPronome)\n",
    "        return Xdrop\n"
   ]
  },
  {
   "cell_type": "code",
   "execution_count": 3,
   "metadata": {},
   "outputs": [],
   "source": [
    "from sklearn.base import BaseEstimator, TransformerMixin\n",
    "\n",
    "class AtributosNumericos(BaseEstimator, TransformerMixin):\n",
    "    def fit(self, X, y=None):\n",
    "        self.colunasNumericas = X.select_dtypes(include='number').columns\n",
    "        return self\n",
    "    def transform(self, X, y=None):\n",
    "        return X[self.colunasNumericas].to_numpy()\n"
   ]
  },
  {
   "cell_type": "code",
   "execution_count": 4,
   "metadata": {},
   "outputs": [],
   "source": [
    "from sklearn.base import BaseEstimator, TransformerMixin\n",
    "\n",
    "class AtributosCategoricos(BaseEstimator, TransformerMixin):\n",
    "    def fit(self, X, y=None):\n",
    "        self.colunasCategoricas = X.select_dtypes(include='object').columns\n",
    "        return self\n",
    "    def transform(self, X, y=None):\n",
    "        return X[self.colunasCategoricas].to_numpy()\n"
   ]
  },
  {
   "cell_type": "code",
   "execution_count": 5,
   "metadata": {},
   "outputs": [],
   "source": [
    "from sklearn.impute import SimpleImputer\n",
    "from sklearn.preprocessing import OneHotEncoder, StandardScaler\n",
    "from sklearn.pipeline import Pipeline, FeatureUnion\n",
    "\n",
    "trataAtributos = Pipeline([\n",
    "    ('unecaracteristicas', FeatureUnion([\n",
    "        ('pipenum', Pipeline([\n",
    "            ('atributos_numericos', AtributosNumericos()),\n",
    "            ('imputer', SimpleImputer(strategy='median')),\n",
    "            ('scaler', StandardScaler())\n",
    "        ])),\n",
    "        ('pipecat', Pipeline([\n",
    "            ('atributos_categoricos', AtributosCategoricos()),\n",
    "            ('imputer', SimpleImputer(strategy='most_frequent')),\n",
    "            ('encoder', OneHotEncoder(handle_unknown='ignore'))\n",
    "        ]))\n",
    "    ])),\n",
    "])\n"
   ]
  },
  {
   "cell_type": "code",
   "execution_count": 6,
   "metadata": {},
   "outputs": [
    {
     "output_type": "execute_result",
     "data": {
      "text/plain": [
       "(array([0.83798883, 0.8258427 , 0.81460674, 0.78651685, 0.85955056,\n",
       "        0.81564246, 0.79775281, 0.80337079, 0.85955056, 0.85955056,\n",
       "        0.81005587, 0.80898876, 0.78089888, 0.80898876, 0.88202247,\n",
       "        0.82681564, 0.87078652, 0.84831461, 0.82022472, 0.7752809 ,\n",
       "        0.78212291, 0.80898876, 0.84831461, 0.81460674, 0.87078652,\n",
       "        0.83798883, 0.84831461, 0.8258427 , 0.76966292, 0.84831461,\n",
       "        0.83798883, 0.84269663, 0.89325843, 0.73595506, 0.8258427 ,\n",
       "        0.82122905, 0.80337079, 0.80337079, 0.84831461, 0.81460674,\n",
       "        0.81564246, 0.86516854, 0.78651685, 0.83146067, 0.85955056,\n",
       "        0.84357542, 0.80898876, 0.79775281, 0.87640449, 0.79213483]),\n",
       " 0.8250304437888393,\n",
       " 0.03194546314587195)"
      ]
     },
     "metadata": {},
     "execution_count": 6
    }
   ],
   "source": [
    "from sklearn.ensemble import RandomForestClassifier\n",
    "from sklearn.model_selection import GridSearchCV, cross_validate, RepeatedKFold\n",
    "import numpy as np\n",
    "\n",
    "pipetotal = Pipeline([\n",
    "    ('atributosDesejados', AtributosDesejados()),\n",
    "    ('trataAtributos', trataAtributos),\n",
    "    ('classificador', RandomForestClassifier())\n",
    "])\n",
    "\n",
    "parametros = {\n",
    "    'atributosDesejados__excluirName': [True, False],\n",
    "    'classificador__max_depth': [5]\n",
    "}\n",
    "modelo = GridSearchCV(pipetotal, param_grid=parametros)\n",
    "\n",
    "scores = cross_validate(modelo, X, y, cv=RepeatedKFold())\n",
    "scores['test_score'], np.mean(scores['test_score']), np.std(scores['test_score'])"
   ]
  },
  {
   "cell_type": "code",
   "execution_count": 7,
   "metadata": {},
   "outputs": [],
   "source": [
    "modelo.fit(X,y)\n",
    "y_pred = modelo.predict(test)\n",
    "result = test[['PassengerId']]\n",
    "result['Survived'] = y_pred\n",
    "result.to_csv('submission.csv',index=False)"
   ]
  }
 ]
}