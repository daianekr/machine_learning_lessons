{
  "nbformat": 4,
  "nbformat_minor": 0,
  "metadata": {
    "colab": {
      "provenance": [],
      "authorship_tag": "ABX9TyOeI3hBGQUj9HwDAE1Sxi4N",
      "include_colab_link": true
    },
    "kernelspec": {
      "name": "python3",
      "display_name": "Python 3"
    },
    "language_info": {
      "name": "python"
    }
  },
  "cells": [
    {
      "cell_type": "markdown",
      "metadata": {
        "id": "view-in-github",
        "colab_type": "text"
      },
      "source": [
        "<a href=\"https://colab.research.google.com/github/fboldt/aulasml/blob/master/aula6a_arvore_atributos_discretos.ipynb\" target=\"_parent\"><img src=\"https://colab.research.google.com/assets/colab-badge.svg\" alt=\"Open In Colab\"/></a>"
      ]
    },
    {
      "cell_type": "code",
      "execution_count": 1,
      "metadata": {
        "colab": {
          "base_uri": "https://localhost:8080/"
        },
        "id": "S3Q-J87EjxTD",
        "outputId": "c04b0afe-9537-4aaf-a53e-4024c86788d2"
      },
      "outputs": [
        {
          "output_type": "stream",
          "name": "stdout",
          "text": [
            "Requirement already satisfied: ucimlrepo in /usr/local/lib/python3.10/dist-packages (0.0.1)\n"
          ]
        }
      ],
      "source": [
        "!pip install ucimlrepo"
      ]
    },
    {
      "cell_type": "code",
      "source": [
        "from ucimlrepo import fetch_ucirepo\n",
        "\n",
        "# fetch dataset\n",
        "car_evaluation = fetch_ucirepo(id=19)\n",
        "\n",
        "# data (as pandas dataframes)\n",
        "X = car_evaluation.data.features.to_numpy()\n",
        "y = car_evaluation.data.targets.to_numpy()[:,0]\n",
        "\n",
        "# metadata\n",
        "print(car_evaluation.metadata)\n",
        "\n",
        "# variable information\n",
        "print(car_evaluation.variables)\n"
      ],
      "metadata": {
        "colab": {
          "base_uri": "https://localhost:8080/"
        },
        "id": "4f7MFNQ_kfBc",
        "outputId": "ce8f68fb-aaf9-4974-bbb4-63be0445734c"
      },
      "execution_count": 2,
      "outputs": [
        {
          "output_type": "stream",
          "name": "stdout",
          "text": [
            "{'uci_id': 19, 'name': 'Car Evaluation', 'repository_url': 'https://archive.ics.uci.edu/dataset/19/car+evaluation', 'data_url': 'https://archive.ics.uci.edu/static/public/19/data.csv', 'abstract': 'Derived from simple hierarchical decision model, this database may be useful for testing constructive induction and structure discovery methods.', 'area': 'Other', 'tasks': ['Classification'], 'characteristics': ['Multivariate'], 'num_instances': 1728, 'num_features': 6, 'feature_types': ['Categorical'], 'demographics': [], 'target_col': ['class'], 'index_col': None, 'has_missing_values': 'no', 'missing_values_symbol': None, 'year_of_dataset_creation': 1988, 'last_updated': 'Thu Aug 10 2023', 'dataset_doi': '10.24432/C5JP48', 'creators': ['Marko Bohanec'], 'intro_paper': {'title': 'Knowledge acquisition and explanation for multi-attribute decision making', 'authors': 'M. Bohanec, V. Rajkovič', 'published_in': '8th Intl Workshop on Expert Systems and their Applications, Avignon, France', 'year': 1988, 'url': 'https://www.semanticscholar.org/paper/KNOWLEDGE-ACQUISITION-AND-EXPLANATION-FOR-DECISION-Bohanec-Rajkovi%C4%8D/8bab443ae322ff47c3e609272bd93fd4650555bc', 'doi': None}, 'additional_info': {'summary': 'Car Evaluation Database was derived from a simple hierarchical decision model originally developed for the demonstration of DEX, M. Bohanec, V. Rajkovic: Expert system for decision making. Sistemica 1(1), pp. 145-157, 1990.). The model evaluates cars according to the following concept structure:\\r\\n\\r\\nCAR                      car acceptability\\r\\n. PRICE                  overall price\\r\\n. . buying               buying price\\r\\n. . maint                price of the maintenance\\r\\n. TECH                   technical characteristics\\r\\n. . COMFORT              comfort\\r\\n. . . doors              number of doors\\r\\n. . . persons            capacity in terms of persons to carry\\r\\n. . . lug_boot           the size of luggage boot\\r\\n. . safety               estimated safety of the car\\r\\n\\r\\nInput attributes are printed in lowercase. Besides the target concept (CAR), the model includes three intermediate concepts: PRICE, TECH, COMFORT. Every concept is in the original model related to its lower level descendants by a set of examples (for these examples sets see http://www-ai.ijs.si/BlazZupan/car.html).\\r\\n\\r\\nThe Car Evaluation Database contains examples with the structural information removed, i.e., directly relates CAR to the six input attributes: buying, maint, doors, persons, lug_boot, safety.\\r\\n\\r\\nBecause of known underlying concept structure, this database may be particularly useful for testing constructive induction and structure discovery methods.\\r\\n', 'purpose': None, 'funded_by': None, 'instances_represent': None, 'recommended_data_splits': None, 'sensitive_data': None, 'preprocessing_description': None, 'variable_info': 'buying:   vhigh, high, med, low.\\nmaint:    vhigh, high, med, low.\\ndoors:    2, 3, 4, 5more.\\npersons:  2, 4, more.\\nlug_boot: small, med, big.\\nsafety:   low, med, high.', 'citation': None}}\n",
            "       name     role         type demographic  \\\n",
            "0    buying  Feature  Categorical        None   \n",
            "1     maint  Feature  Categorical        None   \n",
            "2     doors  Feature  Categorical        None   \n",
            "3   persons  Feature  Categorical        None   \n",
            "4  lug_boot  Feature  Categorical        None   \n",
            "5    safety  Feature  Categorical        None   \n",
            "6     class   Target  Categorical        None   \n",
            "\n",
            "                                         description units missing_values  \n",
            "0                                       buying price  None             no  \n",
            "1                           price of the maintenance  None             no  \n",
            "2                                    number of doors  None             no  \n",
            "3              capacity in terms of persons to carry  None             no  \n",
            "4                           the size of luggage boot  None             no  \n",
            "5                        estimated safety of the car  None             no  \n",
            "6  evaulation level (unacceptable, acceptable, go...  None             no  \n"
          ]
        }
      ]
    },
    {
      "cell_type": "code",
      "source": [
        "set(y), len(y)"
      ],
      "metadata": {
        "colab": {
          "base_uri": "https://localhost:8080/"
        },
        "id": "eeD4BK5qk3q0",
        "outputId": "c9525247-2e65-4fdc-b7fc-ceffa1e4842e"
      },
      "execution_count": 3,
      "outputs": [
        {
          "output_type": "execute_result",
          "data": {
            "text/plain": [
              "({'acc', 'good', 'unacc', 'vgood'}, 1728)"
            ]
          },
          "metadata": {},
          "execution_count": 3
        }
      ]
    },
    {
      "cell_type": "code",
      "source": [
        "combinacoes = 1\n",
        "for i in range(X.shape[1]):\n",
        "  valores = set(X[:,i])\n",
        "  combinacoes *= len(valores)\n",
        "  print(valores)\n",
        "print(combinacoes)"
      ],
      "metadata": {
        "colab": {
          "base_uri": "https://localhost:8080/"
        },
        "id": "IJUpv_0Bk6Xl",
        "outputId": "75f025a3-79ce-4d29-cecb-55e645011b0d"
      },
      "execution_count": 4,
      "outputs": [
        {
          "output_type": "stream",
          "name": "stdout",
          "text": [
            "{'low', 'vhigh', 'med', 'high'}\n",
            "{'low', 'vhigh', 'med', 'high'}\n",
            "{'4', '5more', '3', '2'}\n",
            "{'4', '2', 'more'}\n",
            "{'med', 'big', 'small'}\n",
            "{'high', 'med', 'low'}\n",
            "1728\n"
          ]
        }
      ]
    },
    {
      "cell_type": "code",
      "source": [
        "from sklearn.base import BaseEstimator, ClassifierMixin\n",
        "import numpy as np\n",
        "from collections import Counter\n",
        "from sklearn.model_selection import cross_validate\n",
        "\n",
        "def maisFrequente(y):\n",
        "  return Counter(y.flat).most_common(1)[0][0]\n",
        "\n",
        "class ZeroR(BaseEstimator, ClassifierMixin):\n",
        "  def fit(self, X, y):\n",
        "    self.resposta = maisFrequente(y)\n",
        "  def predict(self, X):\n",
        "    y = np.empty((X.shape[0]), dtype='<U5')\n",
        "    y[:] = self.resposta\n",
        "    return y\n",
        "\n",
        "results = cross_validate(ZeroR(), X, y)\n",
        "results['test_score'], np.mean(results['test_score'])"
      ],
      "metadata": {
        "colab": {
          "base_uri": "https://localhost:8080/"
        },
        "id": "-IjJBAjEmz5P",
        "outputId": "a051d1e6-1e5f-4946-b70c-54cd0ea459ed"
      },
      "execution_count": 5,
      "outputs": [
        {
          "output_type": "execute_result",
          "data": {
            "text/plain": [
              "(array([0.69942197, 0.69942197, 0.69942197, 0.70144928, 0.70144928]),\n",
              " 0.7002328893356791)"
            ]
          },
          "metadata": {},
          "execution_count": 5
        }
      ]
    },
    {
      "cell_type": "code",
      "source": [
        "def impureza(y): #Gini\n",
        "  labels = list(set(y))\n",
        "  labels.sort()\n",
        "  probabilidades = np.zeros((len(labels),))\n",
        "  for i, k in enumerate(labels):\n",
        "    probabilidades[i] = sum(y==k)/len(y)\n",
        "  result = 1 - sum(probabilidades**2)\n",
        "  return result\n",
        "\n",
        "impureza(y[:])"
      ],
      "metadata": {
        "colab": {
          "base_uri": "https://localhost:8080/"
        },
        "id": "We-DhT8oruGZ",
        "outputId": "4586456b-3a9a-495a-f52c-05c7ea16f31a"
      },
      "execution_count": 6,
      "outputs": [
        {
          "output_type": "execute_result",
          "data": {
            "text/plain": [
              "0.457283763074417"
            ]
          },
          "metadata": {},
          "execution_count": 6
        }
      ]
    },
    {
      "cell_type": "code",
      "source": [
        "def impurezaValor(x, y, valor):\n",
        "  iguais = x==valor\n",
        "  impurezaIguais = impureza(y[iguais])\n",
        "  proporcaoIguais = sum(iguais)/len(y)\n",
        "  impurezaDiferentes = impureza(y[~iguais])\n",
        "  proporcaoDiferentes = sum(~iguais)/len(y)\n",
        "  impurezaTotal = proporcaoIguais*impurezaIguais + proporcaoDiferentes*impurezaDiferentes\n",
        "  return impurezaTotal\n",
        "\n",
        "impurezaValor(X[:,3], y, '2')"
      ],
      "metadata": {
        "colab": {
          "base_uri": "https://localhost:8080/"
        },
        "id": "yHokCByTtitd",
        "outputId": "817cb09e-e639-48b1-fac6-82e09fb4bc2e"
      },
      "execution_count": 7,
      "outputs": [
        {
          "output_type": "execute_result",
          "data": {
            "text/plain": [
              "0.38615712609310704"
            ]
          },
          "metadata": {},
          "execution_count": 7
        }
      ]
    },
    {
      "cell_type": "code",
      "source": [
        "def impurezaMinima(X, y):\n",
        "  impurezas = []\n",
        "  caracteristicaValores = []\n",
        "  for i in range(X.shape[1]):\n",
        "    valores = sorted(list(set(X[:,i])))\n",
        "    for valor in valores:\n",
        "      caracteristicaValores.append([i, valor])\n",
        "      impurezaValorCaracteristica = impurezaValor(X[:,i], y, valor)\n",
        "      impurezas.append(impurezaValorCaracteristica)\n",
        "  impurezas = np.array(impurezas)\n",
        "  menorImpureza = np.argmin(impurezas)\n",
        "  caracteristica, valor = caracteristicaValores[menorImpureza]\n",
        "  return impurezas[menorImpureza], caracteristica, valor\n",
        "impurezaMinima(X, y)"
      ],
      "metadata": {
        "colab": {
          "base_uri": "https://localhost:8080/"
        },
        "id": "3dwF76hau_KN",
        "outputId": "2308a48d-6ab9-47b1-dd9d-2a37036b6d2a"
      },
      "execution_count": 8,
      "outputs": [
        {
          "output_type": "execute_result",
          "data": {
            "text/plain": [
              "(0.38615712609310704, 3, '2')"
            ]
          },
          "metadata": {},
          "execution_count": 8
        }
      ]
    },
    {
      "cell_type": "code",
      "source": [
        "class Arvore(BaseEstimator, ClassifierMixin):\n",
        "  def fit(self, X, y):\n",
        "    self.impureza, self.caracteristica, self.valor = impurezaMinima(X, y)\n",
        "    iguais = X[:,self.caracteristica] == self.valor\n",
        "    if sum(iguais)>0 and sum(~iguais)>0:\n",
        "      self.iguais = Arvore()\n",
        "      self.iguais.fit(X[iguais,:], y[iguais])\n",
        "      self.diferentes = Arvore()\n",
        "      self.diferentes.fit(X[~iguais,:], y[~iguais])\n",
        "    else:\n",
        "      self.resposta = maisFrequente(y)\n",
        "    return self\n",
        "  def predict(self, X):\n",
        "    y = np.empty((X.shape[0]), dtype='<U5')\n",
        "    if hasattr(self, 'resposta'):\n",
        "      y[:] = self.resposta\n",
        "    else:\n",
        "      iguais = X[:, self.caracteristica] == self.valor\n",
        "      y[iguais] = self.iguais.predict(X[iguais,:])\n",
        "      y[~iguais] = self.diferentes.predict(X[~iguais,:])\n",
        "    return y\n",
        "\n",
        "results = cross_validate(Arvore(), X, y)\n",
        "\n",
        "results['test_score'], np.mean(results['test_score'])"
      ],
      "metadata": {
        "colab": {
          "base_uri": "https://localhost:8080/"
        },
        "id": "jqdrel3xpez2",
        "outputId": "f5ae8e4b-7f16-4311-fdcd-f94d0a56b7df"
      },
      "execution_count": 9,
      "outputs": [
        {
          "output_type": "execute_result",
          "data": {
            "text/plain": [
              "(array([0.62716763, 0.73121387, 0.75144509, 0.75362319, 0.8057971 ]),\n",
              " 0.7338493758900897)"
            ]
          },
          "metadata": {},
          "execution_count": 9
        }
      ]
    },
    {
      "cell_type": "code",
      "source": [
        "modelo = Arvore()\n",
        "modelo.fit(X, y)\n",
        "y_pred = modelo.predict(X)\n",
        "sum(y==y_pred)/len(y)"
      ],
      "metadata": {
        "colab": {
          "base_uri": "https://localhost:8080/"
        },
        "id": "VTaRgU8F1BLf",
        "outputId": "0e4104d6-41ba-4bff-8eaf-84c4efc81523"
      },
      "execution_count": 10,
      "outputs": [
        {
          "output_type": "execute_result",
          "data": {
            "text/plain": [
              "1.0"
            ]
          },
          "metadata": {},
          "execution_count": 10
        }
      ]
    }
  ]
}