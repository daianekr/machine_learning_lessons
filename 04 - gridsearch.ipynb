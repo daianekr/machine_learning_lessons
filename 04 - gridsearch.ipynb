{
 "metadata": {
  "language_info": {
   "codemirror_mode": {
    "name": "ipython",
    "version": 3
   },
   "file_extension": ".py",
   "mimetype": "text/x-python",
   "name": "python",
   "nbconvert_exporter": "python",
   "pygments_lexer": "ipython3",
   "version": "3.8.5-final"
  },
  "orig_nbformat": 2,
  "kernelspec": {
   "name": "python38564bitvenv8df5f652c965478ab2804a4e99998afa",
   "display_name": "Python 3.8.5 64-bit ('.venv')"
  }
 },
 "nbformat": 4,
 "nbformat_minor": 2,
 "cells": [
  {
   "cell_type": "code",
   "execution_count": 1,
   "metadata": {},
   "outputs": [
    {
     "output_type": "execute_result",
     "data": {
      "text/plain": [
       "dict_keys(['data', 'target', 'frame', 'DESCR', 'feature_names', 'data_filename', 'target_filename'])"
      ]
     },
     "metadata": {},
     "execution_count": 1
    }
   ],
   "source": [
    "from sklearn.datasets import load_diabetes\n",
    "diabetes = load_diabetes()\n",
    "diabetes.keys()"
   ]
  },
  {
   "cell_type": "code",
   "execution_count": 2,
   "metadata": {},
   "outputs": [
    {
     "output_type": "execute_result",
     "data": {
      "text/plain": [
       "((442, 10), (442,))"
      ]
     },
     "metadata": {},
     "execution_count": 2
    }
   ],
   "source": [
    "X, y = diabetes.data, diabetes.target\n",
    "X.shape, y.shape"
   ]
  },
  {
   "cell_type": "code",
   "execution_count": 3,
   "metadata": {},
   "outputs": [
    {
     "output_type": "stream",
     "name": "stdout",
     "text": [
      "[56.2778101  63.42066441 59.63695849 59.59086644 61.70551029]\nSem padronização: 60.126361947859564\n"
     ]
    }
   ],
   "source": [
    "from sklearn.metrics import mean_squared_error, make_scorer\n",
    "from sklearn.model_selection import cross_validate\n",
    "from sklearn.neighbors import KNeighborsRegressor\n",
    "import numpy as np\n",
    "\n",
    "modelo = KNeighborsRegressor()\n",
    "scores = cross_validate(modelo, X, y, scoring=make_scorer(mean_squared_error, squared=False))\n",
    "print(scores['test_score'])\n",
    "sempad = np.mean(scores['test_score'])\n",
    "print(f\"Sem padronização: {sempad}\")"
   ]
  },
  {
   "cell_type": "code",
   "execution_count": 4,
   "metadata": {},
   "outputs": [
    {
     "output_type": "execute_result",
     "data": {
      "text/plain": [
       "GridSearchCV(estimator=KNeighborsRegressor(),\n",
       "             param_grid={'n_neighbors': [3, 5, 7]},\n",
       "             scoring=make_scorer(mean_squared_error, greater_is_better=False, squared=False))"
      ]
     },
     "metadata": {},
     "execution_count": 4
    }
   ],
   "source": [
    "from sklearn.model_selection import GridSearchCV\n",
    "\n",
    "parametros = {'n_neighbors': [3,5,7]}\n",
    "\n",
    "modelo = GridSearchCV(KNeighborsRegressor(), parametros, scoring=make_scorer(mean_squared_error, greater_is_better=False, squared=False))\n",
    "modelo.fit(X, y)"
   ]
  },
  {
   "cell_type": "code",
   "execution_count": 5,
   "metadata": {},
   "outputs": [
    {
     "output_type": "execute_result",
     "data": {
      "text/plain": [
       "{'mean_fit_time': array([0.0005321 , 0.00041428, 0.00037537]),\n",
       " 'std_fit_time': array([2.46477602e-04, 3.82528029e-05, 1.78273337e-05]),\n",
       " 'mean_score_time': array([0.00092211, 0.00101962, 0.00091867]),\n",
       " 'std_score_time': array([6.07119886e-05, 1.21127207e-04, 5.68251865e-05]),\n",
       " 'param_n_neighbors': masked_array(data=[3, 5, 7],\n",
       "              mask=[False, False, False],\n",
       "        fill_value='?',\n",
       "             dtype=object),\n",
       " 'params': [{'n_neighbors': 3}, {'n_neighbors': 5}, {'n_neighbors': 7}],\n",
       " 'split0_test_score': array([-58.07341774, -56.2778101 , -56.99180879]),\n",
       " 'split1_test_score': array([-67.43002106, -63.42066441, -62.93518794]),\n",
       " 'split2_test_score': array([-62.28861222, -59.63695849, -59.57483095]),\n",
       " 'split3_test_score': array([-62.02315061, -59.59086644, -55.63774296]),\n",
       " 'split4_test_score': array([-67.25015489, -61.70551029, -60.43146504]),\n",
       " 'mean_test_score': array([-63.41307131, -60.12636195, -59.11420714]),\n",
       " 'std_test_score': array([3.53743647, 2.3951518 , 2.5743976 ]),\n",
       " 'rank_test_score': array([3, 2, 1], dtype=int32)}"
      ]
     },
     "metadata": {},
     "execution_count": 5
    }
   ],
   "source": [
    "modelo.cv_results_"
   ]
  },
  {
   "cell_type": "code",
   "execution_count": 6,
   "metadata": {},
   "outputs": [
    {
     "output_type": "execute_result",
     "data": {
      "text/plain": [
       "KNeighborsRegressor(n_neighbors=7)"
      ]
     },
     "metadata": {},
     "execution_count": 6
    }
   ],
   "source": [
    "modelo.best_estimator_"
   ]
  },
  {
   "cell_type": "code",
   "execution_count": 7,
   "metadata": {},
   "outputs": [
    {
     "output_type": "execute_result",
     "data": {
      "text/plain": [
       "51.15149901888715"
      ]
     },
     "metadata": {},
     "execution_count": 7
    }
   ],
   "source": [
    "from sklearn.metrics import mean_squared_error\n",
    "from math import sqrt\n",
    "\n",
    "ypred = modelo.predict(X)\n",
    "mse = mean_squared_error(y, ypred)\n",
    "sqrt(mse)"
   ]
  },
  {
   "cell_type": "code",
   "execution_count": 8,
   "metadata": {},
   "outputs": [
    {
     "output_type": "stream",
     "name": "stdout",
     "text": [
      "[56.99180879 62.93518794 59.57483095 55.63774296 60.43146504]\nSem padronização: 59.114207135103996\n"
     ]
    }
   ],
   "source": [
    "scores = cross_validate(modelo, X, y, scoring=make_scorer(mean_squared_error, squared=False), return_estimator=True)\n",
    "print(scores['test_score'])\n",
    "sempad = np.mean(scores['test_score'])\n",
    "print(f\"Sem padronização: {sempad}\")"
   ]
  },
  {
   "cell_type": "code",
   "execution_count": 9,
   "metadata": {},
   "outputs": [
    {
     "output_type": "execute_result",
     "data": {
      "text/plain": [
       "{'fit_time': array([0.02166939, 0.02064991, 0.01992059, 0.01957273, 0.01936269]),\n",
       " 'score_time': array([0.00091386, 0.00120926, 0.00092387, 0.0008595 , 0.00086474]),\n",
       " 'estimator': (GridSearchCV(estimator=KNeighborsRegressor(),\n",
       "               param_grid={'n_neighbors': [3, 5, 7]},\n",
       "               scoring=make_scorer(mean_squared_error, greater_is_better=False, squared=False)),\n",
       "  GridSearchCV(estimator=KNeighborsRegressor(),\n",
       "               param_grid={'n_neighbors': [3, 5, 7]},\n",
       "               scoring=make_scorer(mean_squared_error, greater_is_better=False, squared=False)),\n",
       "  GridSearchCV(estimator=KNeighborsRegressor(),\n",
       "               param_grid={'n_neighbors': [3, 5, 7]},\n",
       "               scoring=make_scorer(mean_squared_error, greater_is_better=False, squared=False)),\n",
       "  GridSearchCV(estimator=KNeighborsRegressor(),\n",
       "               param_grid={'n_neighbors': [3, 5, 7]},\n",
       "               scoring=make_scorer(mean_squared_error, greater_is_better=False, squared=False)),\n",
       "  GridSearchCV(estimator=KNeighborsRegressor(),\n",
       "               param_grid={'n_neighbors': [3, 5, 7]},\n",
       "               scoring=make_scorer(mean_squared_error, greater_is_better=False, squared=False))),\n",
       " 'test_score': array([56.99180879, 62.93518794, 59.57483095, 55.63774296, 60.43146504])}"
      ]
     },
     "metadata": {},
     "execution_count": 9
    }
   ],
   "source": [
    "scores"
   ]
  },
  {
   "cell_type": "code",
   "execution_count": 10,
   "metadata": {},
   "outputs": [
    {
     "output_type": "stream",
     "name": "stdout",
     "text": [
      "KNeighborsRegressor(n_neighbors=7)\nKNeighborsRegressor(n_neighbors=7)\nKNeighborsRegressor(n_neighbors=7)\nKNeighborsRegressor(n_neighbors=7)\nKNeighborsRegressor(n_neighbors=7)\n"
     ]
    }
   ],
   "source": [
    "for estimator in scores['estimator']:\n",
    "    print(estimator.best_estimator_)"
   ]
  },
  {
   "source": [
    "# Pipeline + GridSearch"
   ],
   "cell_type": "markdown",
   "metadata": {}
  },
  {
   "cell_type": "code",
   "execution_count": 11,
   "metadata": {},
   "outputs": [
    {
     "output_type": "stream",
     "name": "stdout",
     "text": [
      "[56.82092904 63.05450375 60.15515846 54.92728369 59.33477082]\nCom padronização: 58.858529150715086\n"
     ]
    }
   ],
   "source": [
    "from sklearn.preprocessing import StandardScaler\n",
    "from sklearn.pipeline import Pipeline\n",
    "\n",
    "parametros = {'n_neighbors': [3,5,7]}\n",
    "\n",
    "GridSearchKNN = GridSearchCV(KNeighborsRegressor(), parametros, scoring='neg_root_mean_squared_error')\n",
    "\n",
    "modelo = Pipeline([\n",
    "    (\"padronização\", StandardScaler()),\n",
    "    (\"gsknn\", GridSearchKNN)\n",
    "])\n",
    "scores = cross_validate(modelo, X, y, scoring=make_scorer(mean_squared_error, squared=False))\n",
    "print(scores['test_score'])\n",
    "compad = np.mean(scores['test_score'])\n",
    "print(f\"Com padronização: {compad}\")"
   ]
  },
  {
   "cell_type": "code",
   "execution_count": 12,
   "metadata": {},
   "outputs": [
    {
     "output_type": "stream",
     "name": "stdout",
     "text": [
      "[56.82092904 63.05450375 60.15515846 54.92728369 59.33477082]\nCom padronização: 58.858529150715086\n"
     ]
    }
   ],
   "source": [
    "pipeline = Pipeline([\n",
    "    (\"padronização\", StandardScaler()),\n",
    "    (\"knn\", KNeighborsRegressor())\n",
    "])\n",
    "\n",
    "parametros = {'knn__n_neighbors': [3,5,7]}\n",
    "\n",
    "modelo = GridSearchCV(pipeline, parametros, scoring='neg_root_mean_squared_error')\n",
    "\n",
    "scores = cross_validate(modelo, X, y, scoring=make_scorer(mean_squared_error, squared=False))\n",
    "print(scores['test_score'])\n",
    "compad = np.mean(scores['test_score'])\n",
    "print(f\"Com padronização: {compad}\")"
   ]
  }
 ]
}
