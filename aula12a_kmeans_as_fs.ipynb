{
  "nbformat": 4,
  "nbformat_minor": 0,
  "metadata": {
    "colab": {
      "provenance": [],
      "authorship_tag": "ABX9TyMkxlRa9swrx/eHFIG9zuAC",
      "include_colab_link": true
    },
    "kernelspec": {
      "name": "python3",
      "display_name": "Python 3"
    },
    "language_info": {
      "name": "python"
    }
  },
  "cells": [
    {
      "cell_type": "markdown",
      "metadata": {
        "id": "view-in-github",
        "colab_type": "text"
      },
      "source": [
        "<a href=\"https://colab.research.google.com/github/fboldt/aulasml/blob/master/aula12a_kmeans_as_fs.ipynb\" target=\"_parent\"><img src=\"https://colab.research.google.com/assets/colab-badge.svg\" alt=\"Open In Colab\"/></a>"
      ]
    },
    {
      "cell_type": "code",
      "execution_count": 1,
      "metadata": {
        "colab": {
          "base_uri": "https://localhost:8080/"
        },
        "id": "1jKzneXD__td",
        "outputId": "2b4c4632-3588-40f6-c2ef-8d084985ae82"
      },
      "outputs": [
        {
          "output_type": "execute_result",
          "data": {
            "text/plain": [
              "((581012, 54), (581012,))"
            ]
          },
          "metadata": {},
          "execution_count": 1
        }
      ],
      "source": [
        "from sklearn.datasets import fetch_covtype\n",
        "X, y = fetch_covtype(return_X_y=True)\n",
        "X.shape, y.shape"
      ]
    },
    {
      "cell_type": "code",
      "source": [
        "from sklearn.model_selection import cross_validate\n",
        "from sklearn.linear_model import RidgeClassifier\n",
        "import numpy as np\n",
        "\n",
        "modelo = RidgeClassifier()\n",
        "scores = cross_validate(modelo, X, y)\n",
        "scores, np.mean(scores['test_score'])"
      ],
      "metadata": {
        "colab": {
          "base_uri": "https://localhost:8080/"
        },
        "id": "WHbJ67NbBRom",
        "outputId": "40bd27d1-4da2-427b-9cae-b5b51ef0f9fc"
      },
      "execution_count": 2,
      "outputs": [
        {
          "output_type": "execute_result",
          "data": {
            "text/plain": [
              "({'fit_time': array([1.11774921, 0.97168183, 1.49006605, 1.54410338, 1.6174891 ]),\n",
              "  'score_time': array([0.04832172, 0.06614232, 0.06695724, 0.07344341, 0.10810828]),\n",
              "  'test_score': array([0.58947704, 0.76359474, 0.62652106, 0.67569405, 0.54031772])},\n",
              " 0.639120922063683)"
            ]
          },
          "metadata": {},
          "execution_count": 2
        }
      ]
    },
    {
      "cell_type": "code",
      "source": [
        "from sklearn.preprocessing import StandardScaler\n",
        "from sklearn.pipeline import Pipeline\n",
        "\n",
        "modelo = Pipeline([\n",
        "    ('scaler', StandardScaler()),\n",
        "    ('clf', RidgeClassifier())\n",
        "])\n",
        "scores = cross_validate(modelo, X, y)\n",
        "scores, np.mean(scores['test_score'])"
      ],
      "metadata": {
        "colab": {
          "base_uri": "https://localhost:8080/"
        },
        "id": "xWS3gVgjDDR6",
        "outputId": "4dc59d74-7df0-4fbd-cc39-a756249bf26a"
      },
      "execution_count": 3,
      "outputs": [
        {
          "output_type": "execute_result",
          "data": {
            "text/plain": [
              "({'fit_time': array([3.69983506, 2.94952273, 2.22610545, 1.41606426, 1.40815544]),\n",
              "  'score_time': array([0.30323362, 0.17181444, 0.15059185, 0.09420466, 0.0864954 ]),\n",
              "  'test_score': array([0.58947704, 0.76360335, 0.62653827, 0.6756252 , 0.5407308 ])},\n",
              " 0.6391949311020719)"
            ]
          },
          "metadata": {},
          "execution_count": 3
        }
      ]
    },
    {
      "cell_type": "code",
      "source": [
        "from sklearn.cluster import KMeans\n",
        "import warnings\n",
        "warnings.filterwarnings(\"ignore\")\n",
        "\n",
        "modelo = Pipeline([\n",
        "    ('fs', KMeans()),\n",
        "    ('clf', RidgeClassifier())\n",
        "])\n",
        "scores = cross_validate(modelo, X, y)\n",
        "scores, np.mean(scores['test_score'])"
      ],
      "metadata": {
        "colab": {
          "base_uri": "https://localhost:8080/"
        },
        "id": "_rckQgwOEp7S",
        "outputId": "e66f33c0-db49-4371-e78c-9c22e791b964"
      },
      "execution_count": 4,
      "outputs": [
        {
          "output_type": "execute_result",
          "data": {
            "text/plain": [
              "({'fit_time': array([70.4899087 , 50.67443895, 76.20334315, 70.72985578, 48.45231247]),\n",
              "  'score_time': array([0.07494712, 0.07165217, 0.07181191, 0.0684669 , 0.07107687]),\n",
              "  'test_score': array([0.40105677, 0.38517078, 0.42061238, 0.44121444, 0.49507754])},\n",
              " 0.4286263812541091)"
            ]
          },
          "metadata": {},
          "execution_count": 4
        }
      ]
    },
    {
      "cell_type": "code",
      "source": [
        "modelo = Pipeline([\n",
        "    ('scaler', StandardScaler()),\n",
        "    ('fs', KMeans()),\n",
        "    ('clf', RidgeClassifier())\n",
        "])\n",
        "scores = cross_validate(modelo, X, y)\n",
        "scores, np.mean(scores['test_score'])"
      ],
      "metadata": {
        "colab": {
          "base_uri": "https://localhost:8080/"
        },
        "id": "U-Y1E81e3olJ",
        "outputId": "69eb9d48-d957-479a-e315-345ff7da296f"
      },
      "execution_count": 5,
      "outputs": [
        {
          "output_type": "execute_result",
          "data": {
            "text/plain": [
              "({'fit_time': array([23.1542294 , 21.18335772, 20.3393755 , 25.90986872, 24.49047923]),\n",
              "  'score_time': array([0.11634731, 0.21243358, 0.11506796, 0.12890196, 0.12741709]),\n",
              "  'test_score': array([0.56711961, 0.60186054, 0.55579078, 0.56435345, 0.55315743])},\n",
              " 0.5684563622310342)"
            ]
          },
          "metadata": {},
          "execution_count": 5
        }
      ]
    }
  ]
}