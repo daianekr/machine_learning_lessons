{
  "nbformat": 4,
  "nbformat_minor": 0,
  "metadata": {
    "colab": {
      "provenance": [],
      "collapsed_sections": [],
      "authorship_tag": "ABX9TyP+9F48ZJiK5KXxqFt0a/2T",
      "include_colab_link": true
    },
    "kernelspec": {
      "name": "python3",
      "display_name": "Python 3"
    },
    "language_info": {
      "name": "python"
    }
  },
  "cells": [
    {
      "cell_type": "markdown",
      "metadata": {
        "id": "view-in-github",
        "colab_type": "text"
      },
      "source": [
        "<a href=\"https://colab.research.google.com/github/fboldt/aulasml/blob/master/aula6_arvores_atributos_discretos.ipynb\" target=\"_parent\"><img src=\"https://colab.research.google.com/assets/colab-badge.svg\" alt=\"Open In Colab\"/></a>"
      ]
    },
    {
      "cell_type": "code",
      "execution_count": null,
      "metadata": {
        "colab": {
          "base_uri": "https://localhost:8080/"
        },
        "id": "1tPNquZTKASA",
        "outputId": "0c475a53-7e42-4f48-b409-a95093e2cd3f"
      },
      "outputs": [
        {
          "output_type": "execute_result",
          "data": {
            "text/plain": [
              "('car.data', <http.client.HTTPMessage at 0x7f64625b6790>)"
            ]
          },
          "metadata": {},
          "execution_count": 2
        }
      ],
      "source": [
        "import urllib.request\n",
        "url = 'https://archive.ics.uci.edu/ml/machine-learning-databases/car/car.data'\n",
        "urllib.request.urlretrieve(url, 'car.data')"
      ]
    },
    {
      "cell_type": "code",
      "source": [
        "import numpy as np\n",
        "data = np.loadtxt('car.data', dtype='str', delimiter=',')\n",
        "X, y = data[:,:-1], data[:,-1]\n",
        "X.shape, y.shape"
      ],
      "metadata": {
        "colab": {
          "base_uri": "https://localhost:8080/"
        },
        "id": "sloILQUpXC9d",
        "outputId": "30e2864f-cfb2-43ec-800f-8250f8be7cb3"
      },
      "execution_count": null,
      "outputs": [
        {
          "output_type": "execute_result",
          "data": {
            "text/plain": [
              "((1728, 6), (1728,))"
            ]
          },
          "metadata": {},
          "execution_count": 3
        }
      ]
    },
    {
      "cell_type": "code",
      "source": [
        "combinações = 1\n",
        "for i in range(X.shape[1]):\n",
        "  valores = set(X[:,i])\n",
        "  print(valores)\n",
        "  combinações *= len(valores)\n",
        "print(combinações)"
      ],
      "metadata": {
        "colab": {
          "base_uri": "https://localhost:8080/"
        },
        "id": "PW9yVLF_X0Oz",
        "outputId": "d5b675d6-8e23-4982-8404-20cedee9dd76"
      },
      "execution_count": null,
      "outputs": [
        {
          "output_type": "stream",
          "name": "stdout",
          "text": [
            "{'low', 'med', 'high', 'vhigh'}\n",
            "{'low', 'med', 'high', 'vhigh'}\n",
            "{'5more', '3', '4', '2'}\n",
            "{'more', '4', '2'}\n",
            "{'small', 'med', 'big'}\n",
            "{'med', 'high', 'low'}\n",
            "1728\n"
          ]
        }
      ]
    },
    {
      "cell_type": "code",
      "source": [
        "\n",
        "X[550:555,:], y[550:555]"
      ],
      "metadata": {
        "colab": {
          "base_uri": "https://localhost:8080/"
        },
        "id": "UBXFGoI2ZDK8",
        "outputId": "8eddbc75-d65b-4ddb-b274-a47944c97618"
      },
      "execution_count": null,
      "outputs": [
        {
          "output_type": "execute_result",
          "data": {
            "text/plain": [
              "(array([['high', 'high', '2', '4', 'small', 'med'],\n",
              "        ['high', 'high', '2', '4', 'small', 'high'],\n",
              "        ['high', 'high', '2', '4', 'med', 'low'],\n",
              "        ['high', 'high', '2', '4', 'med', 'med'],\n",
              "        ['high', 'high', '2', '4', 'med', 'high']], dtype='<U5'),\n",
              " array(['unacc', 'acc', 'unacc', 'unacc', 'acc'], dtype='<U5'))"
            ]
          },
          "metadata": {},
          "execution_count": 9
        }
      ]
    },
    {
      "cell_type": "code",
      "source": [
        "from collections import Counter\n",
        "from sklearn.metrics import accuracy_score\n",
        "\n",
        "def maisFrequente(y):\n",
        "  return Counter(y.flat).most_common(1)[0][0]\n",
        "\n",
        "class ZeroR():\n",
        "  def fit(self, X, y):\n",
        "    self.resposta = maisFrequente(y)\n",
        "  def predict(self, X):\n",
        "    y = np.empty((X.shape[0]), dtype='<U5')\n",
        "    y[:] = self.resposta\n",
        "    return y\n",
        "\n",
        "modelo = ZeroR()\n",
        "modelo.fit(X, y)\n",
        "ypred = modelo.predict(X)\n",
        "accuracy_score(y, ypred), (y == ypred)"
      ],
      "metadata": {
        "colab": {
          "base_uri": "https://localhost:8080/"
        },
        "id": "NkUberaHZfAK",
        "outputId": "ac445c1b-24d4-4b07-a7a6-58763cf6c5a0"
      },
      "execution_count": null,
      "outputs": [
        {
          "output_type": "execute_result",
          "data": {
            "text/plain": [
              "(0.7002314814814815, array([ True,  True,  True, ...,  True, False, False]))"
            ]
          },
          "metadata": {},
          "execution_count": 17
        }
      ]
    },
    {
      "cell_type": "code",
      "source": [
        "def impureza(y): #Gini\n",
        "  labels = list(set(y))\n",
        "  labels.sort()\n",
        "  probabilidades = np.zeros((len(labels),))\n",
        "  for i,k in enumerate(labels):\n",
        "    probabilidades[i] = sum(y==k)/len(y)\n",
        "  result = 1 - sum(probabilidades**2)\n",
        "  return result\n",
        "\n",
        "ytmp = y[:]\n",
        "valor = impureza(ytmp)\n",
        "valor"
      ],
      "metadata": {
        "colab": {
          "base_uri": "https://localhost:8080/"
        },
        "id": "IL6vP_6ZjD3w",
        "outputId": "387746c7-7f55-456e-b619-1ef34e9b9f25"
      },
      "execution_count": null,
      "outputs": [
        {
          "output_type": "execute_result",
          "data": {
            "text/plain": [
              "0.457283763074417"
            ]
          },
          "metadata": {},
          "execution_count": 27
        }
      ]
    },
    {
      "cell_type": "code",
      "source": [
        "def impurezaValor(x, y, valor):\n",
        "  iguais = x==valor\n",
        "  impurezaIguais = impureza(y[iguais])\n",
        "  propIguais = sum(iguais)/len(y)\n",
        "  impurezaDiferentes = impureza(y[~iguais])\n",
        "  propDiferentes = sum(~iguais)/len(y)\n",
        "  impurezaTotal = propIguais*impurezaIguais + propDiferentes*impurezaDiferentes\n",
        "  return impurezaTotal\n",
        "\n",
        "impurezaValor(X[:,0], y, 'vhigh')"
      ],
      "metadata": {
        "colab": {
          "base_uri": "https://localhost:8080/"
        },
        "id": "8J-qPtsFh_2W",
        "outputId": "3138f402-b3bc-417c-ef17-e890030cd4e6"
      },
      "execution_count": null,
      "outputs": [
        {
          "output_type": "execute_result",
          "data": {
            "text/plain": [
              "0.44934645776177407"
            ]
          },
          "metadata": {},
          "execution_count": 32
        }
      ]
    },
    {
      "cell_type": "code",
      "source": [
        "def impurezaMínima(X, y):\n",
        "  impurezas = []\n",
        "  característicasValores = []\n",
        "  for i in range(X.shape[1]):\n",
        "    valores = sorted(list(set(X[:,i])))\n",
        "    for valor in valores:\n",
        "      característicasValores.append([i,valor])\n",
        "      impurezasValorCaracterística = impurezaValor(X[:,i], y, valor)\n",
        "      impurezas.append(impurezasValorCaracterística)\n",
        "  característicasValores = np.array(característicasValores)\n",
        "  impurezas = np.array(impurezas)\n",
        "  menorImpureza = np.argmin(impurezas)\n",
        "  característica, valor = característicasValores[menorImpureza]\n",
        "  return impurezas[menorImpureza], int(característica), valor\n",
        "\n",
        "impurezaMínima(X, y)"
      ],
      "metadata": {
        "colab": {
          "base_uri": "https://localhost:8080/"
        },
        "id": "ck8DJTTDen7S",
        "outputId": "e36fbff8-9edb-4301-e019-69eabea2942c"
      },
      "execution_count": null,
      "outputs": [
        {
          "output_type": "execute_result",
          "data": {
            "text/plain": [
              "(0.38615712609310704, 3, '2')"
            ]
          },
          "metadata": {},
          "execution_count": 34
        }
      ]
    },
    {
      "cell_type": "code",
      "source": [
        "from sklearn.base import BaseEstimator, ClassifierMixin\n",
        "\n",
        "class Arvore(BaseEstimator, ClassifierMixin):\n",
        "  \n",
        "  def fit(self, X, y):\n",
        "    self.impureza, self.característica, self.valor = impurezaMínima(X, y)\n",
        "    iguais = X[:,self.característica] == self.valor\n",
        "    if sum(iguais)>0 and sum(~iguais)>0:\n",
        "      self.iguais = Arvore()\n",
        "      self.iguais.fit(X[iguais,:],y[iguais])\n",
        "      self.diferentes = Arvore()\n",
        "      self.diferentes.fit(X[~iguais,:],y[~iguais])\n",
        "    else:\n",
        "      self.resposta = maisFrequente(y)\n",
        "\n",
        "  def predict(self, X):\n",
        "    y = np.empty((X.shape[0]), dtype='<U5')\n",
        "    if hasattr(self, 'resposta'):\n",
        "      y[:] = self.resposta\n",
        "    else:\n",
        "      iguais = X[:,self.característica] == self.valor\n",
        "      y[iguais] = self.iguais.predict(X[iguais,:])\n",
        "      y[~iguais] = self.diferentes.predict(X[~iguais,:])\n",
        "    return y\n",
        "\n",
        "modelo = Arvore()\n",
        "modelo.fit(X, y)\n",
        "ypred = modelo.predict(X)\n",
        "accuracy_score(y, ypred), (y == ypred)"
      ],
      "metadata": {
        "colab": {
          "base_uri": "https://localhost:8080/"
        },
        "id": "iq8ZO8qWch6v",
        "outputId": "d5eba044-9732-45a3-aedf-57043625250f"
      },
      "execution_count": null,
      "outputs": [
        {
          "output_type": "execute_result",
          "data": {
            "text/plain": [
              "(1.0, array([ True,  True,  True, ...,  True,  True,  True]))"
            ]
          },
          "metadata": {},
          "execution_count": 35
        }
      ]
    },
    {
      "cell_type": "code",
      "source": [
        "from sklearn.model_selection import cross_validate\n",
        "\n",
        "scores = cross_validate(Arvore(), X, y)\n",
        "scores['test_score'], np.mean(scores['test_score'])"
      ],
      "metadata": {
        "colab": {
          "base_uri": "https://localhost:8080/"
        },
        "id": "Tky2zReSnikp",
        "outputId": "d6c06f99-48db-42eb-9496-90419312eb6e"
      },
      "execution_count": null,
      "outputs": [
        {
          "output_type": "execute_result",
          "data": {
            "text/plain": [
              "(array([0.62716763, 0.73121387, 0.75144509, 0.75362319, 0.8057971 ]),\n",
              " 0.7338493758900897)"
            ]
          },
          "metadata": {},
          "execution_count": 40
        }
      ]
    }
  ]
}