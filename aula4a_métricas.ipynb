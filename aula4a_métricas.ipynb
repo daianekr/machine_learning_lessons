{
  "nbformat": 4,
  "nbformat_minor": 0,
  "metadata": {
    "colab": {
      "provenance": [],
      "authorship_tag": "ABX9TyN0Eu3Yi+H+19fBl1W5Gn2v",
      "include_colab_link": true
    },
    "kernelspec": {
      "name": "python3",
      "display_name": "Python 3"
    },
    "language_info": {
      "name": "python"
    }
  },
  "cells": [
    {
      "cell_type": "markdown",
      "metadata": {
        "id": "view-in-github",
        "colab_type": "text"
      },
      "source": [
        "<a href=\"https://colab.research.google.com/github/fboldt/aulasml/blob/master/aula4a_m%C3%A9tricas.ipynb\" target=\"_parent\"><img src=\"https://colab.research.google.com/assets/colab-badge.svg\" alt=\"Open In Colab\"/></a>"
      ]
    },
    {
      "cell_type": "code",
      "execution_count": 73,
      "metadata": {
        "id": "tViRiajNLJa-",
        "colab": {
          "base_uri": "https://localhost:8080/"
        },
        "outputId": "0612b8fd-6cdd-4707-f96f-30c106282b61"
      },
      "outputs": [
        {
          "output_type": "execute_result",
          "data": {
            "text/plain": [
              "dict_keys(['data', 'target', 'frame', 'target_names', 'DESCR', 'feature_names', 'filename', 'data_module'])"
            ]
          },
          "metadata": {},
          "execution_count": 73
        }
      ],
      "source": [
        "from sklearn.datasets import load_breast_cancer\n",
        "dataset = load_breast_cancer()\n",
        "dataset.keys()"
      ]
    },
    {
      "cell_type": "code",
      "source": [
        "X, y = dataset.data, dataset.target\n",
        "print(X.shape, y.shape)"
      ],
      "metadata": {
        "colab": {
          "base_uri": "https://localhost:8080/"
        },
        "id": "L3m61rkbMrIl",
        "outputId": "fde9be77-0aa4-47ab-8815-4ca9479c4906"
      },
      "execution_count": 74,
      "outputs": [
        {
          "output_type": "stream",
          "name": "stdout",
          "text": [
            "(569, 30) (569,)\n"
          ]
        }
      ]
    },
    {
      "cell_type": "code",
      "source": [
        "sum(y)/len(y)"
      ],
      "metadata": {
        "colab": {
          "base_uri": "https://localhost:8080/"
        },
        "id": "hoCmVYJaNgGF",
        "outputId": "15fe79fb-b1ca-4324-fcb9-123e16a27a8b"
      },
      "execution_count": 75,
      "outputs": [
        {
          "output_type": "execute_result",
          "data": {
            "text/plain": [
              "0.6274165202108963"
            ]
          },
          "metadata": {},
          "execution_count": 75
        }
      ]
    },
    {
      "cell_type": "markdown",
      "source": [
        "# inverte classes"
      ],
      "metadata": {
        "id": "Nm_hp4J0Pc45"
      }
    },
    {
      "cell_type": "code",
      "source": [
        "y = y==0\n",
        "sum(y)/len(y)"
      ],
      "metadata": {
        "colab": {
          "base_uri": "https://localhost:8080/"
        },
        "id": "wTa3xKJAPchE",
        "outputId": "eaf12ac6-16a1-4f8c-e5e9-f4242fe6a0de"
      },
      "execution_count": 76,
      "outputs": [
        {
          "output_type": "execute_result",
          "data": {
            "text/plain": [
              "0.37258347978910367"
            ]
          },
          "metadata": {},
          "execution_count": 76
        }
      ]
    },
    {
      "cell_type": "code",
      "source": [
        "from sklearn.model_selection import train_test_split\n",
        "X_tr, X_te, y_tr, y_te = train_test_split(X, y, test_size=0.2)"
      ],
      "metadata": {
        "id": "1Vm4Slo2OQn3"
      },
      "execution_count": 124,
      "outputs": []
    },
    {
      "cell_type": "code",
      "source": [
        "import numpy as np\n",
        "from numpy.linalg import pinv\n",
        "from sklearn.base import BaseEstimator, ClassifierMixin\n",
        "from sklearn.metrics import classification_report, confusion_matrix, \\\n",
        "ConfusionMatrixDisplay, precision_recall_curve, PrecisionRecallDisplay\n",
        "\n",
        "def addBias(X):\n",
        "  return np.hstack((np.ones((X.shape[0], 1)), X))\n",
        "\n",
        "class classificador_linear(BaseEstimator, ClassifierMixin):\n",
        "  def __init__(self):\n",
        "    self.threshold = 0.5\n",
        "\n",
        "  def fit(self, X, y):\n",
        "    X = addBias(X)\n",
        "    self.w = pinv(X.T @ X) @ X.T @ y\n",
        "\n",
        "  def predict(self, X):\n",
        "    X = addBias(X)\n",
        "    return (X @ self.w) > self.threshold\n",
        "\n",
        "\n",
        "clf = classificador_linear()\n",
        "clf.fit(X_tr, y_tr)\n",
        "ypred = clf.predict(X_te)\n",
        "print(classification_report(y_te, ypred, labels=[1,0]))\n",
        "disp = ConfusionMatrixDisplay(confusion_matrix(y_te, ypred, labels=[1,0]), display_labels=[1,0])\n",
        "disp.plot()"
      ],
      "metadata": {
        "colab": {
          "base_uri": "https://localhost:8080/",
          "height": 629
        },
        "id": "_e5gd7XSNmBc",
        "outputId": "f6781678-9f4d-47e2-92fc-bbc4fed257fd"
      },
      "execution_count": 139,
      "outputs": [
        {
          "output_type": "stream",
          "name": "stdout",
          "text": [
            "              precision    recall  f1-score   support\n",
            "\n",
            "           1       0.97      0.87      0.92        38\n",
            "           0       0.94      0.99      0.96        76\n",
            "\n",
            "    accuracy                           0.95       114\n",
            "   macro avg       0.95      0.93      0.94       114\n",
            "weighted avg       0.95      0.95      0.95       114\n",
            "\n"
          ]
        },
        {
          "output_type": "execute_result",
          "data": {
            "text/plain": [
              "<sklearn.metrics._plot.confusion_matrix.ConfusionMatrixDisplay at 0x7d5f4834b940>"
            ]
          },
          "metadata": {},
          "execution_count": 139
        },
        {
          "output_type": "display_data",
          "data": {
            "text/plain": [
              "<Figure size 640x480 with 2 Axes>"
            ],
            "image/png": "[encoded data removed]"
          },
          "metadata": {}
        }
      ]
    },
    {
      "cell_type": "code",
      "source": [
        "from sklearn.neighbors import KNeighborsClassifier\n",
        "clf = KNeighborsClassifier()\n",
        "clf.fit(X_tr, y_tr)\n",
        "ypred = clf.predict(X_te)\n",
        "print(classification_report(y_te, ypred, labels=[1,0]))\n",
        "disp = ConfusionMatrixDisplay(confusion_matrix(y_te, ypred, labels=[1,0]), display_labels=[1,0])\n",
        "disp.plot()"
      ],
      "metadata": {
        "colab": {
          "base_uri": "https://localhost:8080/",
          "height": 629
        },
        "id": "snTSmgqqU_cf",
        "outputId": "24187ec5-0fdf-4b0d-b6b1-7b7cb1644507"
      },
      "execution_count": 148,
      "outputs": [
        {
          "output_type": "stream",
          "name": "stdout",
          "text": [
            "              precision    recall  f1-score   support\n",
            "\n",
            "           1       0.87      0.87      0.87        38\n",
            "           0       0.93      0.93      0.93        76\n",
            "\n",
            "    accuracy                           0.91       114\n",
            "   macro avg       0.90      0.90      0.90       114\n",
            "weighted avg       0.91      0.91      0.91       114\n",
            "\n"
          ]
        },
        {
          "output_type": "execute_result",
          "data": {
            "text/plain": [
              "<sklearn.metrics._plot.confusion_matrix.ConfusionMatrixDisplay at 0x7d5f48203e20>"
            ]
          },
          "metadata": {},
          "execution_count": 148
        },
        {
          "output_type": "display_data",
          "data": {
            "text/plain": [
              "<Figure size 640x480 with 2 Axes>"
            ],
            "image/png": "[encoded data removed]"
          },
          "metadata": {}
        }
      ]
    },
    {
      "cell_type": "code",
      "source": [
        "from sklearn.model_selection import cross_validate, RepeatedStratifiedKFold\n",
        "splitter = RepeatedStratifiedKFold(random_state=42)"
      ],
      "metadata": {
        "id": "eADD0Bq8Vyc3"
      },
      "execution_count": 248,
      "outputs": []
    },
    {
      "cell_type": "code",
      "source": [
        "clf = classificador_linear()\n",
        "scores = cross_validate(clf, X, y, cv=splitter)\n",
        "print(sum(scores['test_score'])/len(scores['test_score']))\n",
        "scores_clin = scores['test_score']"
      ],
      "metadata": {
        "colab": {
          "base_uri": "https://localhost:8080/"
        },
        "id": "0UA9vQmRd27S",
        "outputId": "19ce9081-d984-4fd8-fcf4-9cb6700da9f9"
      },
      "execution_count": 249,
      "outputs": [
        {
          "output_type": "stream",
          "name": "stdout",
          "text": [
            "0.9557118459866476\n"
          ]
        }
      ]
    },
    {
      "cell_type": "code",
      "source": [
        "clf = KNeighborsClassifier()\n",
        "scores = cross_validate(clf, X, y, cv=splitter)\n",
        "print(sum(scores['test_score'])/len(scores['test_score']))\n",
        "scores_knn = scores['test_score']"
      ],
      "metadata": {
        "colab": {
          "base_uri": "https://localhost:8080/"
        },
        "id": "AiDl0N1Nd1Dz",
        "outputId": "f743284a-a832-4ab7-88b1-ec2c05c9f0cc"
      },
      "execution_count": 250,
      "outputs": [
        {
          "output_type": "stream",
          "name": "stdout",
          "text": [
            "0.9316394969725192\n"
          ]
        }
      ]
    },
    {
      "cell_type": "code",
      "source": [
        "from sklearn.ensemble import RandomForestClassifier\n",
        "clf = RandomForestClassifier()\n",
        "scores = cross_validate(clf, X, y, cv=splitter)\n",
        "print(sum(scores['test_score'])/len(scores['test_score']))\n",
        "scores_rf = scores['test_score']"
      ],
      "metadata": {
        "colab": {
          "base_uri": "https://localhost:8080/"
        },
        "id": "_dQq2Ty5jmkm",
        "outputId": "9fe8fd49-c6ab-4300-a3b6-b4490bb64901"
      },
      "execution_count": 251,
      "outputs": [
        {
          "output_type": "stream",
          "name": "stdout",
          "text": [
            "0.9579894426331313\n"
          ]
        }
      ]
    },
    {
      "cell_type": "code",
      "source": [
        "from scipy.stats import ttest_ind\n",
        "\n",
        "t_statistic, p_value = ttest_ind(scores_clin, scores_rf)\n",
        "\n",
        "print(\"T-statistic:\", t_statistic)\n",
        "print(\"P-value:\", p_value)\n",
        "\n",
        "# Interpret the results\n",
        "alpha = 0.05  # Significance level\n",
        "if p_value < alpha:\n",
        "    print(\"There is a statistically significant difference between the two models.\")\n",
        "else:\n",
        "    print(\"There is no statistically significant difference between the two models.\")"
      ],
      "metadata": {
        "colab": {
          "base_uri": "https://localhost:8080/"
        },
        "id": "w7JUkMs7ktc8",
        "outputId": "65200fb4-80e7-4a9f-f918-d48b7b985604"
      },
      "execution_count": 252,
      "outputs": [
        {
          "output_type": "stream",
          "name": "stdout",
          "text": [
            "T-statistic: -0.6155306877408607\n",
            "P-value: 0.5396311761387247\n",
            "There is no statistically significant difference between the two models.\n"
          ]
        }
      ]
    }
  ]
}