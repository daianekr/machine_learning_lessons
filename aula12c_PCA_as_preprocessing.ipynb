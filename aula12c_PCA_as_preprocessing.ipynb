{
  "nbformat": 4,
  "nbformat_minor": 0,
  "metadata": {
    "colab": {
      "provenance": [],
      "authorship_tag": "ABX9TyOw9FZ/CtJ/VgYn5aNdgenn",
      "include_colab_link": true
    },
    "kernelspec": {
      "name": "python3",
      "display_name": "Python 3"
    },
    "language_info": {
      "name": "python"
    }
  },
  "cells": [
    {
      "cell_type": "markdown",
      "metadata": {
        "id": "view-in-github",
        "colab_type": "text"
      },
      "source": [
        "<a href=\"https://colab.research.google.com/github/fboldt/aulasml/blob/master/aula12c_PCA_as_preprocessing.ipynb\" target=\"_parent\"><img src=\"https://colab.research.google.com/assets/colab-badge.svg\" alt=\"Open In Colab\"/></a>"
      ]
    },
    {
      "cell_type": "code",
      "execution_count": 1,
      "metadata": {
        "colab": {
          "base_uri": "https://localhost:8080/"
        },
        "id": "1jKzneXD__td",
        "outputId": "e68cc1cb-1ad4-498e-c92b-3534ef48c437"
      },
      "outputs": [
        {
          "output_type": "execute_result",
          "data": {
            "text/plain": [
              "((581012, 54), (581012,))"
            ]
          },
          "metadata": {},
          "execution_count": 1
        }
      ],
      "source": [
        "from sklearn.datasets import fetch_covtype\n",
        "X, y = fetch_covtype(return_X_y=True)\n",
        "X.shape, y.shape"
      ]
    },
    {
      "cell_type": "code",
      "source": [
        "from sklearn.model_selection import cross_validate\n",
        "from sklearn.linear_model import RidgeClassifier\n",
        "import numpy as np\n",
        "\n",
        "modelo = RidgeClassifier()\n",
        "scores = cross_validate(modelo, X, y)\n",
        "scores, np.mean(scores['test_score'])"
      ],
      "metadata": {
        "colab": {
          "base_uri": "https://localhost:8080/"
        },
        "id": "WHbJ67NbBRom",
        "outputId": "c3b1b54b-f401-4a41-92a3-1752090a167a"
      },
      "execution_count": 2,
      "outputs": [
        {
          "output_type": "execute_result",
          "data": {
            "text/plain": [
              "({'fit_time': array([1.04250789, 1.24011111, 1.36960292, 1.40720892, 2.24197698]),\n",
              "  'score_time': array([0.05883098, 0.07446241, 0.11940312, 0.08819747, 0.10299826]),\n",
              "  'test_score': array([0.58947704, 0.76359474, 0.62652106, 0.67569405, 0.54031772])},\n",
              " 0.639120922063683)"
            ]
          },
          "metadata": {},
          "execution_count": 2
        }
      ]
    },
    {
      "cell_type": "code",
      "source": [
        "from sklearn.preprocessing import StandardScaler\n",
        "from sklearn.pipeline import Pipeline\n",
        "\n",
        "modelo = Pipeline([\n",
        "    ('scaler', StandardScaler()),\n",
        "    ('clf', RidgeClassifier())\n",
        "])\n",
        "scores = cross_validate(modelo, X, y)\n",
        "scores, np.mean(scores['test_score'])"
      ],
      "metadata": {
        "colab": {
          "base_uri": "https://localhost:8080/"
        },
        "id": "xWS3gVgjDDR6",
        "outputId": "b63a3e53-95d4-4d8a-d720-667ef5e90b1e"
      },
      "execution_count": 3,
      "outputs": [
        {
          "output_type": "execute_result",
          "data": {
            "text/plain": [
              "({'fit_time': array([2.78802729, 2.13507771, 2.14530134, 1.39366984, 1.37855005]),\n",
              "  'score_time': array([0.15707731, 0.14986563, 0.08703089, 0.09214401, 0.08789206]),\n",
              "  'test_score': array([0.58947704, 0.76360335, 0.62653827, 0.6756252 , 0.5407308 ])},\n",
              " 0.6391949311020719)"
            ]
          },
          "metadata": {},
          "execution_count": 3
        }
      ]
    },
    {
      "cell_type": "code",
      "source": [
        "from sklearn.decomposition import PCA\n",
        "\n",
        "modelo = Pipeline([\n",
        "    ('pca', PCA(n_components=0.99)),\n",
        "    ('clf', RidgeClassifier())\n",
        "])\n",
        "scores = cross_validate(modelo, X, y)\n",
        "scores, np.mean(scores['test_score'])"
      ],
      "metadata": {
        "colab": {
          "base_uri": "https://localhost:8080/"
        },
        "id": "_rckQgwOEp7S",
        "outputId": "79954819-1709-4756-cc50-3e57cce53188"
      },
      "execution_count": 4,
      "outputs": [
        {
          "output_type": "execute_result",
          "data": {
            "text/plain": [
              "({'fit_time': array([4.14528465, 3.41216898, 3.64991117, 4.23253989, 4.67067289]),\n",
              "  'score_time': array([0.06713319, 0.06243181, 0.06371808, 0.1315062 , 0.0995779 ]),\n",
              "  'test_score': array([0.51089042, 0.71047219, 0.60088467, 0.64610764, 0.48564569])},\n",
              " 0.5908001215768827)"
            ]
          },
          "metadata": {},
          "execution_count": 4
        }
      ]
    },
    {
      "cell_type": "code",
      "source": [
        "modelo.fit(X, y)\n",
        "modelo.named_steps['pca'].singular_values_"
      ],
      "metadata": {
        "colab": {
          "base_uri": "https://localhost:8080/"
        },
        "id": "MXeB5mmzAWBj",
        "outputId": "1ec580db-f3e7-4cda-c63b-e698213c7cee"
      },
      "execution_count": 5,
      "outputs": [
        {
          "output_type": "execute_result",
          "data": {
            "text/plain": [
              "array([1290498.80392529,  878997.25026923,  211037.15698797,\n",
              "        146986.30620276])"
            ]
          },
          "metadata": {},
          "execution_count": 5
        }
      ]
    },
    {
      "cell_type": "code",
      "source": [
        "modelo = Pipeline([\n",
        "    ('scaler', StandardScaler()),\n",
        "    ('pca', PCA(n_components=0.99)),\n",
        "    ('clf', RidgeClassifier())\n",
        "])\n",
        "scores = cross_validate(modelo, X, y)\n",
        "scores, np.mean(scores['test_score'])"
      ],
      "metadata": {
        "colab": {
          "base_uri": "https://localhost:8080/"
        },
        "id": "U-Y1E81e3olJ",
        "outputId": "12f5d2bd-d762-4d33-b723-b7901d24eec6"
      },
      "execution_count": 6,
      "outputs": [
        {
          "output_type": "execute_result",
          "data": {
            "text/plain": [
              "({'fit_time': array([5.11968803, 4.55231333, 5.2582016 , 4.64233446, 5.22800684]),\n",
              "  'score_time': array([0.16987419, 0.1619339 , 0.16745281, 0.18272996, 0.27919674]),\n",
              "  'test_score': array([0.59180056, 0.66395876, 0.58561815, 0.66244987, 0.57718456])},\n",
              " 0.6162023790307951)"
            ]
          },
          "metadata": {},
          "execution_count": 6
        }
      ]
    },
    {
      "cell_type": "code",
      "source": [
        "modelo.fit(X, y)\n",
        "modelo.named_steps['pca'].singular_values_"
      ],
      "metadata": {
        "colab": {
          "base_uri": "https://localhost:8080/"
        },
        "id": "arFF7QFPBAGn",
        "outputId": "a7cdc11a-203d-41b2-894d-3ca21f877bcd"
      },
      "execution_count": 7,
      "outputs": [
        {
          "output_type": "execute_result",
          "data": {
            "text/plain": [
              "array([1466.15987578, 1302.65336693, 1180.39733969, 1078.77518739,\n",
              "        940.08907934,  921.92882477,  844.85268368,  823.01510238,\n",
              "        800.58747491,  793.70233939,  789.97310264,  787.51866665,\n",
              "        782.83262938,  776.73475776,  775.97013781,  774.46966877,\n",
              "        772.27916527,  771.55406898,  770.46157501,  768.48723166,\n",
              "        767.67524538,  767.36255575,  766.14469266,  765.72424555,\n",
              "        765.21262046,  764.73855573,  764.64363755,  763.90865971,\n",
              "        763.81401376,  763.77454487,  763.67553115,  763.39683732,\n",
              "        763.11939371,  762.71325413,  762.6209443 ,  762.5236505 ,\n",
              "        762.41770461,  762.32796814,  762.24574228,  754.46196157,\n",
              "        692.49433252,  684.26926167,  611.65837198,  606.86000755,\n",
              "        517.15649314,  491.46619213,  435.8028929 ,  409.72905139,\n",
              "        382.1401579 ])"
            ]
          },
          "metadata": {},
          "execution_count": 7
        }
      ]
    }
  ]
}