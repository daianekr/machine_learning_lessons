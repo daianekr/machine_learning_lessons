{
  "nbformat": 4,
  "nbformat_minor": 0,
  "metadata": {
    "colab": {
      "name": "01.01 - regressão.ipynb",
      "provenance": [],
      "collapsed_sections": [],
      "authorship_tag": "ABX9TyOfdJgviD6wQUc02Bjzx3SC",
      "include_colab_link": true
    },
    "kernelspec": {
      "name": "python3",
      "display_name": "Python 3"
    },
    "language_info": {
      "name": "python"
    }
  },
  "cells": [
    {
      "cell_type": "markdown",
      "metadata": {
        "id": "view-in-github",
        "colab_type": "text"
      },
      "source": [
        "<a href=\"https://colab.research.google.com/github/fboldt/aulasml/blob/code/01_01_regress%C3%A3o.ipynb\" target=\"_parent\"><img src=\"https://colab.research.google.com/assets/colab-badge.svg\" alt=\"Open In Colab\"/></a>"
      ]
    },
    {
      "cell_type": "code",
      "execution_count": 1,
      "metadata": {
        "colab": {
          "base_uri": "https://localhost:8080/"
        },
        "id": "75zV3rhH07Rf",
        "outputId": "d482e6e2-7291-485c-b6e7-5fd4da3dde88"
      },
      "outputs": [
        {
          "output_type": "execute_result",
          "data": {
            "text/plain": [
              "((100, 1), (100,), array(75.95295292))"
            ]
          },
          "metadata": {},
          "execution_count": 1
        }
      ],
      "source": [
        "from sklearn.datasets import make_regression\n",
        "import matplotlib.pylab as plt\n",
        "\n",
        "X, y, coef = make_regression(n_features=1, noise=30, coef=True, random_state=4)\n",
        "X.shape, y.shape, coef"
      ]
    },
    {
      "cell_type": "code",
      "source": [
        "y = y.reshape(-1,1)\n",
        "X.shape, y.shape"
      ],
      "metadata": {
        "colab": {
          "base_uri": "https://localhost:8080/"
        },
        "id": "73kyhn0y9ZI9",
        "outputId": "9f1c2868-e9f9-4290-f6bb-b2924e0404fd"
      },
      "execution_count": 2,
      "outputs": [
        {
          "output_type": "execute_result",
          "data": {
            "text/plain": [
              "((100, 1), (100, 1))"
            ]
          },
          "metadata": {},
          "execution_count": 2
        }
      ]
    },
    {
      "cell_type": "code",
      "source": [
        "def modelo_linear(X, coef):\n",
        "  y = X*coef\n",
        "  return y\n",
        "ypred = modelo_linear(X, coef)\n",
        "ypred.shape"
      ],
      "metadata": {
        "id": "HvBeiSavC0M8",
        "colab": {
          "base_uri": "https://localhost:8080/"
        },
        "outputId": "2ef49657-7310-4a97-801b-8f5ab1da361c"
      },
      "execution_count": 3,
      "outputs": [
        {
          "output_type": "execute_result",
          "data": {
            "text/plain": [
              "(100, 1)"
            ]
          },
          "metadata": {},
          "execution_count": 3
        }
      ]
    },
    {
      "cell_type": "code",
      "source": [
        "def plot_prediction(X, y, ypred):\n",
        "  plt.scatter(X, y)\n",
        "  plt.scatter(X, ypred, alpha=0.5)\n",
        "  plt.show()\n",
        "\n",
        "plot_prediction(X, y, ypred)"
      ],
      "metadata": {
        "colab": {
          "base_uri": "https://localhost:8080/",
          "height": 266
        },
        "id": "WLhytvRrKO4W",
        "outputId": "c1f3d1b8-665f-453a-9528-0e803a170596"
      },
      "execution_count": 4,
      "outputs": [
        {
          "output_type": "display_data",
          "data": {
            "text/plain": [
              "<Figure size 432x288 with 1 Axes>"
            ],
            "image/png": "[encoded data removed]"
          },
          "metadata": {
            "needs_background": "light"
          }
        }
      ]
    },
    {
      "cell_type": "code",
      "source": [
        "import numpy as np\n",
        "\n",
        "def mae(y, ypred):\n",
        "    ydif = ypred - y\n",
        "    yabs = abs(ydif)\n",
        "    esum = np.sum(yabs)\n",
        "    mae = esum/len(yabs)\n",
        "    return mae\n",
        "ypred = modelo_linear(X, coef)\n",
        "mae(y, ypred)"
      ],
      "metadata": {
        "colab": {
          "base_uri": "https://localhost:8080/"
        },
        "id": "5RvnTh2pGFbD",
        "outputId": "cdfc1159-229f-4de2-99ef-0aee36b193d8"
      },
      "execution_count": 5,
      "outputs": [
        {
          "output_type": "execute_result",
          "data": {
            "text/plain": [
              "20.636951137353734"
            ]
          },
          "metadata": {},
          "execution_count": 5
        }
      ]
    },
    {
      "cell_type": "code",
      "source": [
        "def mse(y, ypred):\n",
        "    ydif = ypred - y\n",
        "    ysqr = ydif**2\n",
        "    esum = np.sum(ysqr)\n",
        "    mse = esum/len(ysqr)\n",
        "    return mse\n",
        "ypred = modelo_linear(X, coef)\n",
        "mse(y, ypred)"
      ],
      "metadata": {
        "colab": {
          "base_uri": "https://localhost:8080/"
        },
        "id": "bCnA6UxdHKbZ",
        "outputId": "053d879f-8fd4-43c5-ab9e-719911e8bfe2"
      },
      "execution_count": 6,
      "outputs": [
        {
          "output_type": "execute_result",
          "data": {
            "text/plain": [
              "655.5657700738702"
            ]
          },
          "metadata": {},
          "execution_count": 6
        }
      ]
    },
    {
      "cell_type": "code",
      "source": [
        "from math import sqrt\n",
        "\n",
        "def rmse(y, ypred):\n",
        "  return sqrt(mse(y,ypred))\n",
        "ypred = modelo_linear(X, coef)\n",
        "rmse(y, ypred)"
      ],
      "metadata": {
        "colab": {
          "base_uri": "https://localhost:8080/"
        },
        "id": "dn9IWfYWHbCV",
        "outputId": "a8e6abaa-3266-42a8-decb-96b04270335d"
      },
      "execution_count": 7,
      "outputs": [
        {
          "output_type": "execute_result",
          "data": {
            "text/plain": [
              "25.60401863133735"
            ]
          },
          "metadata": {},
          "execution_count": 7
        }
      ]
    },
    {
      "cell_type": "code",
      "source": [
        "from sklearn.metrics import mean_squared_error\n",
        "from math import sqrt\n",
        "\n",
        "def rmse(y, ypred):\n",
        "  return sqrt(mean_squared_error(y,ypred))\n",
        "ypred = modelo_linear(X, coef)\n",
        "rmse(y, ypred)"
      ],
      "metadata": {
        "colab": {
          "base_uri": "https://localhost:8080/"
        },
        "id": "UdyPhROHHuUJ",
        "outputId": "6c0013d0-c86a-4c7e-c09e-c309735006ed"
      },
      "execution_count": 8,
      "outputs": [
        {
          "output_type": "execute_result",
          "data": {
            "text/plain": [
              "25.60401863133735"
            ]
          },
          "metadata": {},
          "execution_count": 8
        }
      ]
    },
    {
      "cell_type": "code",
      "source": [
        "import numpy as np\n",
        "\n",
        "class RegressãoLinear():\n",
        "  def __init__(self, coef):\n",
        "    self.coef_ = coef\n",
        "  \n",
        "  def predict(self, X):\n",
        "    y = X*self.coef_\n",
        "    return y.reshape(-1,)\n",
        "\n",
        "modelo = RegressãoLinear(coef)\n",
        "ypred = modelo.predict(X)\n",
        "rmse(y, ypred)"
      ],
      "metadata": {
        "colab": {
          "base_uri": "https://localhost:8080/"
        },
        "id": "jR1qokLBI1RU",
        "outputId": "d0c86095-5641-434c-a20a-fbbd45670b75"
      },
      "execution_count": 9,
      "outputs": [
        {
          "output_type": "execute_result",
          "data": {
            "text/plain": [
              "25.60401863133735"
            ]
          },
          "metadata": {},
          "execution_count": 9
        }
      ]
    },
    {
      "cell_type": "code",
      "source": [
        "import numpy as np\n",
        "\n",
        "class RegressãoLinear():\n",
        "  def __init__(self):\n",
        "    self.coef_ = np.random.uniform(-100,200,(1,))\n",
        "  \n",
        "  def predict(self, X):\n",
        "    y = X*self.coef_\n",
        "    return y\n",
        "\n",
        "modelo = RegressãoLinear()\n",
        "ypred = modelo.predict(X)\n",
        "rmse(y, ypred)"
      ],
      "metadata": {
        "colab": {
          "base_uri": "https://localhost:8080/"
        },
        "id": "1XGRpcx3KyXw",
        "outputId": "b6d060ef-5ff3-4095-ba75-e3bba243319a"
      },
      "execution_count": 10,
      "outputs": [
        {
          "output_type": "execute_result",
          "data": {
            "text/plain": [
              "54.44044958029636"
            ]
          },
          "metadata": {},
          "execution_count": 10
        }
      ]
    },
    {
      "cell_type": "code",
      "source": [
        "coefs = np.linspace(-100, 200, 100)\n",
        "mses = []\n",
        "for coef in coefs:\n",
        "  modelo.coef_ = coef\n",
        "  ypred = modelo.predict(X)\n",
        "  mse = mean_squared_error(y, ypred)\n",
        "  mses.append(mse)\n",
        "plt.plot(coefs, mses)\n",
        "plt.show()"
      ],
      "metadata": {
        "colab": {
          "base_uri": "https://localhost:8080/",
          "height": 265
        },
        "id": "bOn25_1xsdew",
        "outputId": "fc46e419-e192-42e5-afd9-e533b64f07a0"
      },
      "execution_count": 11,
      "outputs": [
        {
          "output_type": "display_data",
          "data": {
            "text/plain": [
              "<Figure size 432x288 with 1 Axes>"
            ],
            "image/png": "[encoded data removed]"
          },
          "metadata": {
            "needs_background": "light"
          }
        }
      ]
    },
    {
      "cell_type": "code",
      "source": [
        "modelo.coef_ = 74.39967\n",
        "ypred = modelo.predict(X)\n",
        "erro = ypred - y\n",
        "deriv = np.mean(X * erro)\n",
        "deriv"
      ],
      "metadata": {
        "colab": {
          "base_uri": "https://localhost:8080/"
        },
        "id": "tSxkauOhuKKV",
        "outputId": "7aa7af49-ccc3-40c6-b874-aa4d44f645c6"
      },
      "execution_count": 12,
      "outputs": [
        {
          "output_type": "execute_result",
          "data": {
            "text/plain": [
              "2.8066097774726018e-06"
            ]
          },
          "metadata": {},
          "execution_count": 12
        }
      ]
    },
    {
      "cell_type": "code",
      "source": [
        "import numpy as np\n",
        "import random\n",
        "\n",
        "class RegressãoLinear():\n",
        "  def __init__(self):\n",
        "    self.coef_ = np.random.uniform(-100,200,(1,)) # 0 # 76 # 57 # 56 # \n",
        "  \n",
        "  def fit(self, X, y):\n",
        "    for _ in range(10):\n",
        "      ypred = self.predict(X)\n",
        "      erro = ypred - y\n",
        "      deriv = np.mean(X * erro)\n",
        "      print(self.coef_, mean_squared_error(y,ypred), deriv)\n",
        "      self.coef_ = self.coef_ - deriv\n",
        "    return self\n",
        "\n",
        "  def predict(self, X):\n",
        "    y = X*self.coef_\n",
        "    return y\n",
        "\n",
        "modelo = RegressãoLinear()\n",
        "modelo.fit(X, y)\n",
        "ypred = modelo.predict(X)\n",
        "rmse(y, ypred)"
      ],
      "metadata": {
        "colab": {
          "base_uri": "https://localhost:8080/"
        },
        "id": "2IO8hlugOADJ",
        "outputId": "535cf4f4-8d9d-4f76-d6a1-cc2083e671a6"
      },
      "execution_count": 13,
      "outputs": [
        {
          "output_type": "stream",
          "name": "stdout",
          "text": [
            "[-11.36715967] 7625.284509710224 -81.2902350937954\n",
            "[69.92307543] 672.2728967194734 -4.242936325479406\n",
            "[74.16601175] 653.3307487776774 -0.22145967029497376\n",
            "[74.38747142] 653.2791445249276 -0.011559067071693772\n",
            "[74.39903049] 653.2790039390281 -0.0006033244400274107\n",
            "[74.39963381] 653.279003556029 -3.1490463524423974e-05\n",
            "[74.3996653] 653.2790035549856 -1.6436418373189099e-06\n",
            "[74.39966695] 653.2790035549826 -8.578973288209113e-08\n",
            "[74.39966703] 653.2790035549826 -4.477784241174732e-09\n",
            "[74.39966704] 653.2790035549828 -2.337195859070107e-10\n"
          ]
        },
        {
          "output_type": "execute_result",
          "data": {
            "text/plain": [
              "25.5593232217714"
            ]
          },
          "metadata": {},
          "execution_count": 13
        }
      ]
    }
  ]
}